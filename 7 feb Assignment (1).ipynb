{
 "cells": [
  {
   "cell_type": "code",
   "execution_count": null,
   "id": "69f887a7-1697-41f6-8500-8a9fe50d4053",
   "metadata": {},
   "outputs": [],
   "source": [
    "#Qn 1:-\n",
    "l, u, p, d = 0, 0, 0, 0\n",
    "s = \"R@m@_f0rtu9e$\"\n",
    "if (len(s) >= 8):\n",
    "    for i in s:\n",
    "        if (i.islower()):\n",
    "            l+=1           \n",
    "        if (i.isupper()):\n",
    "            u+=1           \n",
    "        if (i.isdigit()):\n",
    "            d+=1           \n",
    "        if(i=='@'or i=='$' or i=='_'):\n",
    "            p+=1          \n",
    "if (l>=1 and u>=1 and p>=1 and d>=1 and l+p+u+d==len(s)):\n",
    "    print(\"Valid Password\")\n",
    "else:\n",
    "    print(\"Invalid Password\")"
   ]
  },
  {
   "cell_type": "code",
   "execution_count": 23,
   "id": "eeec2d74-1047-4765-8adc-a2007225ea0f",
   "metadata": {},
   "outputs": [
    {
     "name": "stdin",
     "output_type": "stream",
     "text": [
      " ajdgh\n"
     ]
    },
    {
     "name": "stdout",
     "output_type": "stream",
     "text": [
      "The string starts with 'a'.\n"
     ]
    }
   ],
   "source": [
    "#Qn 2(i):-\n",
    "s = input()\n",
    "starts_with_a = lambda x: x.startswith('a')\n",
    "if starts_with_a(s):\n",
    "    print(\"The string starts with 'a'.\")\n",
    "else:\n",
    "    print(\"The string does not start with 'a'.\")"
   ]
  },
  {
   "cell_type": "code",
   "execution_count": 26,
   "id": "fb9700eb-9442-40c2-9a2d-48b2cbebea25",
   "metadata": {},
   "outputs": [
    {
     "name": "stdin",
     "output_type": "stream",
     "text": [
      " dsygud56\n"
     ]
    },
    {
     "name": "stdout",
     "output_type": "stream",
     "text": [
      "No\n"
     ]
    }
   ],
   "source": [
    "#Qn 2(ii) :-\n",
    "s = input()\n",
    "check = lambda x : x.isdigit()\n",
    "if check(s):\n",
    "    print(\"Yes\")\n",
    "else:\n",
    "    print(\"No\")"
   ]
  },
  {
   "cell_type": "code",
   "execution_count": 32,
   "id": "de1a983b-a34d-4a91-992d-781e59c9ba8c",
   "metadata": {},
   "outputs": [
    {
     "name": "stdout",
     "output_type": "stream",
     "text": [
      "[('orange', 80), ('mango', 99), ('grapes', 1000)]\n"
     ]
    }
   ],
   "source": [
    "#Qn 2(iii):-\n",
    "list1 = [(\"mango\",99),(\"orange\",80), (\"grapes\", 1000)]\n",
    "a = list1.sort(key = lambda x: x[1])\n",
    "print(list1)"
   ]
  },
  {
   "cell_type": "code",
   "execution_count": 5,
   "id": "429c0e72-11d9-4137-97f5-ab217eb5ff09",
   "metadata": {},
   "outputs": [
    {
     "data": {
      "text/plain": [
       "[1, 4, 9, 16, 25, 36, 49, 64, 81, 100]"
      ]
     },
     "execution_count": 5,
     "metadata": {},
     "output_type": "execute_result"
    }
   ],
   "source": [
    "#Qn 2(iv):-\n",
    "n = [1,2,3,4,5,6,7,8,9,10]\n",
    "list(map(lambda x : x**2,n))"
   ]
  },
  {
   "cell_type": "code",
   "execution_count": 6,
   "id": "89cec4e6-691e-47e1-8736-a6bb348aab64",
   "metadata": {},
   "outputs": [
    {
     "data": {
      "text/plain": [
       "[1, 8, 27, 64, 125, 216, 343, 512, 729, 1000]"
      ]
     },
     "execution_count": 6,
     "metadata": {},
     "output_type": "execute_result"
    }
   ],
   "source": [
    "#Qn 2(v) :-\n",
    "n = [1,2,3,4,5,6,7,8,9,10]\n",
    "list(map(lambda x : x**3,n))"
   ]
  },
  {
   "cell_type": "code",
   "execution_count": 2,
   "id": "86dfb742-4bc2-4fbe-9d00-77102fc17892",
   "metadata": {},
   "outputs": [
    {
     "name": "stdout",
     "output_type": "stream",
     "text": [
      "[2, 4, 6, 8, 10]\n"
     ]
    }
   ],
   "source": [
    "#Qn 2(vi):-\n",
    "num = [1, 2, 3, 4, 5, 6, 7, 8, 9, 10]\n",
    "even_nums = list(filter(lambda x: x % 2 == 0, num))\n",
    "print(even_nums) \n"
   ]
  },
  {
   "cell_type": "code",
   "execution_count": 19,
   "id": "3a3c5c7f-b99d-4af7-bfd3-ebdcd59ce312",
   "metadata": {},
   "outputs": [
    {
     "data": {
      "text/plain": [
       "[1, 3, 5, 7, 9]"
      ]
     },
     "execution_count": 19,
     "metadata": {},
     "output_type": "execute_result"
    }
   ],
   "source": [
    "#Qn 2(vii):-\n",
    "n =[1,2,3,4,5,6,7,8,9,10]\n",
    "list(filter(lambda x: x%2!=0, n))"
   ]
  },
  {
   "cell_type": "code",
   "execution_count": 28,
   "id": "ee51caee-40f6-4f3b-8e9c-e19d54ef8c16",
   "metadata": {},
   "outputs": [
    {
     "name": "stdout",
     "output_type": "stream",
     "text": [
      "[1, 2, 3, 4, 5, 6, 0] [-1, -2, -3, -4, -5]\n"
     ]
    }
   ],
   "source": [
    "#Qn 2(viii):-\n",
    "n = [1,2,3,4,5,6,-1,-2,-3,-4,-5,0]\n",
    "a = list(filter(lambda x : x>= 0,n))\n",
    "b = list(filter(lambda x : x< 0,n))\n",
    "print(a,b)"
   ]
  }
 ],
 "metadata": {
  "kernelspec": {
   "display_name": "Python 3 (ipykernel)",
   "language": "python",
   "name": "python3"
  },
  "language_info": {
   "codemirror_mode": {
    "name": "ipython",
    "version": 3
   },
   "file_extension": ".py",
   "mimetype": "text/x-python",
   "name": "python",
   "nbconvert_exporter": "python",
   "pygments_lexer": "ipython3",
   "version": "3.10.8"
  }
 },
 "nbformat": 4,
 "nbformat_minor": 5
}
