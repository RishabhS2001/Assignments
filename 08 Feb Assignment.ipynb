{
 "cells": [
  {
   "cell_type": "code",
   "execution_count": null,
   "id": "6c1e3d69-1c7f-459f-94eb-43601d8b4c71",
   "metadata": {},
   "outputs": [],
   "source": [
    "#Qn 1:-\n",
    "'''Abstraction in python is defined as a process of handling complexity by hiding unnecessary information\n",
    "from the user. \n",
    "Another real-world example of an abstraction is getting dressed in the morning. You're\n",
    "able to quickly evaluate wardrobe needs and put together a corresponding outfit relatively simply. \n",
    "Perhaps you have a pants and jacket set that provides a simplified match'''"
   ]
  },
  {
   "cell_type": "code",
   "execution_count": null,
   "id": "186863ab-07b4-4693-90ad-ba6704aed5b5",
   "metadata": {},
   "outputs": [],
   "source": [
    "#Qn 2:-\n",
    "'''Abstraction is a way of representing some specific data. Encapsulation is a way of hiding the\n",
    "complexity of something and exposing only the parts you wish to expose.\n",
    "For example, if you have a class that has one or more private fields that you use to store the data, \n",
    "then you are in encapsulation.'''"
   ]
  },
  {
   "cell_type": "code",
   "execution_count": null,
   "id": "369441c7-ffe7-4e24-80ff-08072a533800",
   "metadata": {},
   "outputs": [],
   "source": [
    "#Qn 3:-\n",
    "'''This module provides the infrastructure for defining abstract base classes (ABCs) in Python.\n",
    "For larger projects, it is impossible to remember the class details, and also the reusability of code\n",
    "can increase the bug. Therefore, it plays a crucial role in our projects.'''"
   ]
  },
  {
   "cell_type": "code",
   "execution_count": null,
   "id": "e114b73f-89ee-41d5-aa34-9b1e555c4a79",
   "metadata": {},
   "outputs": [],
   "source": [
    "#Qn 4:-\n",
    "'''abstraction can be achieved by having/using abstract classes and methods in our programs'''"
   ]
  },
  {
   "cell_type": "code",
   "execution_count": null,
   "id": "20e0f912-7215-4554-a781-de7a876d855a",
   "metadata": {},
   "outputs": [],
   "source": [
    "#Qn 5:-\n",
    "'''Abstract classes cannot be instantiated, but they can be subclassed. When an abstract class is \n",
    "subclassed, the subclass usually provides implementations for all of the abstract methods in its parent\n",
    "class. However, if it does not, then the subclass must also be declared abstract .'''"
   ]
  }
 ],
 "metadata": {
  "kernelspec": {
   "display_name": "Python 3 (ipykernel)",
   "language": "python",
   "name": "python3"
  },
  "language_info": {
   "codemirror_mode": {
    "name": "ipython",
    "version": 3
   },
   "file_extension": ".py",
   "mimetype": "text/x-python",
   "name": "python",
   "nbconvert_exporter": "python",
   "pygments_lexer": "ipython3",
   "version": "3.10.8"
  }
 },
 "nbformat": 4,
 "nbformat_minor": 5
}
