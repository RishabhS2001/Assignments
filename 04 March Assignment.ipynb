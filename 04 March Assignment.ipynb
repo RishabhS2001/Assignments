{
 "cells": [
  {
   "cell_type": "code",
   "execution_count": null,
   "id": "d5f450d7-c96a-4e61-b63f-91b09f6ffa1c",
   "metadata": {},
   "outputs": [],
   "source": [
    "#Qn 1:-\n",
    "'''\n",
    "import seaborn as sns\n",
    "import plotly.express as px\n",
    "titanic = sns.load_dataset('titanic')\n",
    "fig = px.scatter(titanic, x='age', y='fare')\n",
    "fig.show()\n",
    "'''"
   ]
  },
  {
   "cell_type": "code",
   "execution_count": null,
   "id": "e447110b-1f65-41b9-8f43-7d6161f96f2e",
   "metadata": {},
   "outputs": [],
   "source": [
    "#Qn 2:-\n",
    "'''\n",
    "tips = px.data.tips()\n",
    "fig = px.box(tips, x='day', y='total_bill')\n",
    "fig.show()"
   ]
  },
  {
   "cell_type": "code",
   "execution_count": null,
   "id": "f090cbae-c8fb-4015-9b0c-0e356ecbe717",
   "metadata": {},
   "outputs": [],
   "source": [
    "#Qn 3:-\n",
    "'''\n",
    "tips = px.data.tips()\n",
    "fig = px.histogram(tips, x='sex', y='total_bill', color='day', pattern_shape='smoker')\n",
    "fig.show()\n",
    "'''"
   ]
  },
  {
   "cell_type": "code",
   "execution_count": null,
   "id": "b51d88b5-2ec4-4ef0-8ac5-ae08d98e6ea7",
   "metadata": {},
   "outputs": [],
   "source": [
    "#Qn 4:-\n",
    "'''\n",
    "iris = px.data.iris()\n",
    "\n",
    "fig = px.scatter_matrix(iris, dimensions=['sepal_width', 'sepal_length', 'petal_width', 'petal_length'], color='species')\n",
    "\n",
    "fig.show()\n"
   ]
  },
  {
   "cell_type": "code",
   "execution_count": null,
   "id": "f4ad2d11-8d7a-4ff8-a44c-3f10ccaf677e",
   "metadata": {},
   "outputs": [],
   "source": [
    "#Qn 5:-\n",
    "'''\n",
    "The distplot function in Plotly Express is used to visualize the distribution of a single\n",
    "variable in the form of a histogram overlaid with a kernel density estimate (KDE) plot.\n",
    "It provides a compact summary of the data's distribution by showing both the frequency\n",
    "(histogram) and the shape (KDE) of the variable."
   ]
  }
 ],
 "metadata": {
  "kernelspec": {
   "display_name": "Python 3 (ipykernel)",
   "language": "python",
   "name": "python3"
  },
  "language_info": {
   "codemirror_mode": {
    "name": "ipython",
    "version": 3
   },
   "file_extension": ".py",
   "mimetype": "text/x-python",
   "name": "python",
   "nbconvert_exporter": "python",
   "pygments_lexer": "ipython3",
   "version": "3.10.8"
  }
 },
 "nbformat": 4,
 "nbformat_minor": 5
}
