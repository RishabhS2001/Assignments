{
 "cells": [
  {
   "cell_type": "code",
   "execution_count": null,
   "id": "cba98ffd-9138-480f-9bdd-337b3d5647f8",
   "metadata": {},
   "outputs": [],
   "source": [
    "#Qn 1:- \n",
    "'''\n",
    "Overfitting occurs when our machine learning model tries to cover all the data points or\n",
    "more than the required data points present in the given dataset. Because of this, the \n",
    "model starts caching noise and inaccurate values present in the dataset, and all these\n",
    "factors reduce the efficiency and accuracy of the model. The overfitted model has low \n",
    "bias and high variance.\n",
    "\n",
    "Cross-Validation\n",
    "Training with more data\n",
    "Removing features\n",
    "Early stopping the training\n",
    "Regularization\n",
    "Ensembling\n",
    "\n",
    "Underfitting occurs when our machine learning model is not able to capture the underlying\n",
    "trend of the data. To avoid the overfitting in the model, the fed of training data can be\n",
    "stopped at an early stage, due to which the model may not learn enough from the training\n",
    "data. As a result, it may fail to find the best fit of the dominant trend in the data.\n",
    "\n",
    "By increasing the training time of the model.\n",
    "By increasing the number of features."
   ]
  },
  {
   "cell_type": "code",
   "execution_count": null,
   "id": "7578cd34-3643-4035-8fbd-19181634f9b4",
   "metadata": {},
   "outputs": [],
   "source": [
    "#Qn 2:-\n",
    "'''\n",
    "Both overfitting and underfitting cause the degraded performance of the machine learning model. But the main cause is overfitting, so there are some ways by which we can reduce the occurrence of overfitting in our model.\n",
    "\n",
    "Cross-Validation\n",
    "Training with more data\n",
    "Removing features\n",
    "Early stopping the training\n",
    "Regularization\n",
    "Ensembling"
   ]
  },
  {
   "cell_type": "code",
   "execution_count": null,
   "id": "722dc434-1578-4b16-87d2-28ed0fef4c65",
   "metadata": {},
   "outputs": [],
   "source": [
    "#Qn 3:-\n",
    "'''\n",
    "n the case of underfitting, the model is not able to learn enough from the training data, and hence it reduces the accuracy and produces unreliable predictions.\n",
    "\n",
    "An underfitted model has high bias and low variance.\n",
    "By increasing the training time of the model.\n",
    "By increasing the number of features."
   ]
  },
  {
   "cell_type": "code",
   "execution_count": null,
   "id": "f2d13cb1-d0a9-4bd0-ab11-335d02066f05",
   "metadata": {},
   "outputs": [],
   "source": [
    "#Qn 4:-\n",
    "'''\n",
    "f the algorithm is too simple (hypothesis with linear equation) then it may be on high bias \n",
    "and low variance condition and thus is error-prone. If algorithms fit too complex (hypothesis \n",
    "with high degree equation) then it may be on high variance and low bias.\n"
   ]
  },
  {
   "cell_type": "code",
   "execution_count": null,
   "id": "bf5dbf0b-8e47-442b-9d67-ba833eb64b94",
   "metadata": {},
   "outputs": [],
   "source": [
    "#Qn 5:- \n",
    "'''\n",
    "We can determine whether a predictive model is underfitting or overfitting the training data\n",
    "by looking at the prediction error on the training data and the evaluation data. Your model is\n",
    "underfitting the training data when the model performs poorly on the training data.\n"
   ]
  },
  {
   "cell_type": "code",
   "execution_count": null,
   "id": "c7f89dfb-f295-4ca4-a19e-6ba5069e1dfe",
   "metadata": {},
   "outputs": [],
   "source": [
    "#Qn 6:-\n",
    "'''\n",
    "Because a high variance algorithm may perform well with training data, but it may lead\n",
    "to overfitting to noisy data. Whereas, high bias algorithm generates a much simple model\n",
    "that may not even capture important regularities in the data.\n",
    "\n"
   ]
  },
  {
   "cell_type": "code",
   "execution_count": null,
   "id": "4bdf0339-3e64-4b51-91f1-0e3f392a70ed",
   "metadata": {},
   "outputs": [],
   "source": [
    "#Qn 7:-\n",
    "'''\n",
    "\n",
    "In short, Regularization in machine learning is the process of regularizing the parameters\n",
    "that constrain, regularizes, or shrinks the coefficient estimates towards zero. In other words,\n",
    "this technique discourages learning a more complex or flexible model, avoiding the risk of Overfitting.\n"
   ]
  }
 ],
 "metadata": {
  "kernelspec": {
   "display_name": "Python 3 (ipykernel)",
   "language": "python",
   "name": "python3"
  },
  "language_info": {
   "codemirror_mode": {
    "name": "ipython",
    "version": 3
   },
   "file_extension": ".py",
   "mimetype": "text/x-python",
   "name": "python",
   "nbconvert_exporter": "python",
   "pygments_lexer": "ipython3",
   "version": "3.10.8"
  }
 },
 "nbformat": 4,
 "nbformat_minor": 5
}
