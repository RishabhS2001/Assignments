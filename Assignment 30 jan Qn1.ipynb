{
 "cells": [
  {
   "cell_type": "code",
   "execution_count": 26,
   "id": "98967182-f87b-4be1-b44a-69fe20e37790",
   "metadata": {},
   "outputs": [
    {
     "name": "stdin",
     "output_type": "stream",
     "text": [
      "Enter your percentage 35\n"
     ]
    },
    {
     "name": "stdout",
     "output_type": "stream",
     "text": [
      "Your Grade is D\n"
     ]
    }
   ],
   "source": [
    "#Qn :- 1\n",
    "\n",
    "percentage = int(input(\"Enter your percentage\"))\n",
    "if percentage >= 90 :\n",
    "    print(\"Your Grade is A\") \n",
    "elif percentage >= 80 and percentage < 90 :\n",
    "    print(\"Your Grade is B\")\n",
    "elif percentage >= 60 and percentage < 80 :\n",
    "    print(\"Your Grade is C\")\n",
    "elif percentage < 60:\n",
    "    print(\"Your Grade is D\")"
   ]
  },
  {
   "cell_type": "code",
   "execution_count": 2,
   "id": "7b491f06-12e9-4aca-a468-bf7ea39f0150",
   "metadata": {},
   "outputs": [
    {
     "name": "stdin",
     "output_type": "stream",
     "text": [
      "Input the cost price 100000\n"
     ]
    },
    {
     "name": "stdout",
     "output_type": "stream",
     "text": [
      "115000.0\n"
     ]
    }
   ],
   "source": [
    "#Qn :- 2\n",
    "cp = int(input(\"Input the cost price\"))\n",
    "if cp >= 100000:\n",
    "    per =(15*cp)/100\n",
    "    sp = per + cp\n",
    "    print(sp)\n",
    "elif cp >= 50000 and cp < 100000 :\n",
    "    per = (10*cp)/100\n",
    "    sp = per +cp\n",
    "    print(sp)\n",
    "elif cp < 50000 :\n",
    "    per = (5*cp)/100\n",
    "    sp = per +cp\n",
    "    print(sp)\n",
    "    "
   ]
  },
  {
   "cell_type": "code",
   "execution_count": 3,
   "id": "67b53c60-e3d2-467b-ae21-0d2ba9e5b0d8",
   "metadata": {},
   "outputs": [
    {
     "name": "stdin",
     "output_type": "stream",
     "text": [
      "Enter the city name Agra\n"
     ]
    },
    {
     "name": "stdout",
     "output_type": "stream",
     "text": [
      "Taj Mahal\n"
     ]
    }
   ],
   "source": [
    "#Qn :- 3\n",
    "city = input(\"Enter the city name\")\n",
    "if city == \"Delhi\" :\n",
    "    print(\"Red Fort\")\n",
    "elif city == \"Agra\" :\n",
    "    print(\"Taj Mahal\")\n",
    "elif city == \"Jaipur\" :\n",
    "    print(\"Jal Mahal\")\n"
   ]
  },
  {
   "cell_type": "code",
   "execution_count": 16,
   "id": "fd5934fb-9b93-4529-8f9d-b5f694a1cee9",
   "metadata": {},
   "outputs": [
    {
     "name": "stdin",
     "output_type": "stream",
     "text": [
      " 10\n"
     ]
    },
    {
     "name": "stdout",
     "output_type": "stream",
     "text": [
      "0\n"
     ]
    }
   ],
   "source": [
    "#Qn :- 4\n",
    "n = int(input())\n",
    "count = 0\n",
    "while n > 10 :\n",
    "    n = n/3\n",
    "    count = count +1\n",
    "print(count)    \n",
    "        \n",
    "        \n"
   ]
  },
  {
   "cell_type": "code",
   "execution_count": null,
   "id": "38833d78-59ae-4df5-83cd-d1ae0109dfc0",
   "metadata": {},
   "outputs": [],
   "source": [
    "#Qn :- 5\n",
    "A While loop in Python allows a part of the code to be executed repeatedly\n",
    "as long as a given condition is true. The While loop in Python is also called\n",
    "a pre-tested loop. It is typically used when the number of iterations is not known.\n"
   ]
  },
  {
   "cell_type": "code",
   "execution_count": null,
   "id": "9a4a3f7b-4813-4c61-a2b1-8f9643f1d393",
   "metadata": {},
   "outputs": [],
   "source": [
    "#Qn :- 6\n",
    "\n",
    "i=1\n",
    "while i<=5:\n",
    "    j=1\n",
    "    while j<=i:\n",
    "        print(j,end=\" \")\n",
    "        j=j+1\n",
    "    print(\"\")\n",
    "    i=i+1"
   ]
  },
  {
   "cell_type": "code",
   "execution_count": null,
   "id": "c07fbf83-d371-4d19-a9e0-e82c42babcf9",
   "metadata": {},
   "outputs": [],
   "source": [
    "#Qn :- 7\n",
    "\n",
    "N = int(input())\n",
    "for i in range(N, 0, -1):\n",
    "        print(i, end = \" \");"
   ]
  },
  {
   "cell_type": "code",
   "execution_count": null,
   "id": "4e08fc95-5cdd-4682-b7a7-56d25d627a27",
   "metadata": {},
   "outputs": [],
   "source": [
    "Qn :- 8\n",
    "\n",
    "N = int(input())\n",
    "for i in range(N, 0, -1):\n",
    "        print(i, end = \" \");"
   ]
  }
 ],
 "metadata": {
  "kernelspec": {
   "display_name": "Python 3 (ipykernel)",
   "language": "python",
   "name": "python3"
  },
  "language_info": {
   "codemirror_mode": {
    "name": "ipython",
    "version": 3
   },
   "file_extension": ".py",
   "mimetype": "text/x-python",
   "name": "python",
   "nbconvert_exporter": "python",
   "pygments_lexer": "ipython3",
   "version": "3.10.8"
  }
 },
 "nbformat": 4,
 "nbformat_minor": 5
}
