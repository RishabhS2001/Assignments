{
 "cells": [
  {
   "cell_type": "code",
   "execution_count": null,
   "id": "311adf53-bd53-4043-b9c3-08b26af50d6d",
   "metadata": {},
   "outputs": [],
   "source": [
    "#Qn 1:-\n",
    "'''open() method is used for Opening Files in Python'''\n",
    "''' r :- Open a file for reading.\n",
    "    w :- Open a file for writing. Creates a new file if it does not exist or truncates the file if it exists.\n",
    "    b :- Open in binary mode.\n",
    "    t :- Open in text mode.\n",
    "    \n",
    "    and many more modes\n",
    "    "
   ]
  },
  {
   "cell_type": "code",
   "execution_count": null,
   "id": "777869f8-5c93-42a6-bbab-f8f4a73e6b3f",
   "metadata": {},
   "outputs": [],
   "source": [
    "#Qn 2:-\n",
    "'''The close() method closes an open file. You should always close your files, in some cases,\n",
    "due to buffering, changes made to a file may not show until you close the file.\n"
   ]
  },
  {
   "cell_type": "code",
   "execution_count": 2,
   "id": "55feda84-8602-4a80-a2a5-2181db22f574",
   "metadata": {},
   "outputs": [],
   "source": [
    "#Qn 3:-\n",
    "f = open(\"text23.txt\" , 'w')"
   ]
  },
  {
   "cell_type": "code",
   "execution_count": 6,
   "id": "256f8d31-537e-47bc-b746-195fa04735a1",
   "metadata": {},
   "outputs": [
    {
     "data": {
      "text/plain": [
       "33"
      ]
     },
     "execution_count": 6,
     "metadata": {},
     "output_type": "execute_result"
    }
   ],
   "source": [
    "f.write(\"I want to become a Data Scientist\")"
   ]
  },
  {
   "cell_type": "code",
   "execution_count": 7,
   "id": "7b8ac2ad-c16e-4956-8d36-98fb393078ec",
   "metadata": {},
   "outputs": [],
   "source": [
    "f.close()"
   ]
  },
  {
   "cell_type": "code",
   "execution_count": 11,
   "id": "0a648469-b124-4dc8-acf2-84b1eb772c6b",
   "metadata": {},
   "outputs": [],
   "source": [
    "f=  open(\"text23.txt\", \"r\")"
   ]
  },
  {
   "cell_type": "code",
   "execution_count": 12,
   "id": "cf58b656-5f95-46a5-b625-66ee5ef75206",
   "metadata": {},
   "outputs": [
    {
     "data": {
      "text/plain": [
       "'I want to become a Data Scientist'"
      ]
     },
     "execution_count": 12,
     "metadata": {},
     "output_type": "execute_result"
    }
   ],
   "source": [
    "f.read()"
   ]
  },
  {
   "cell_type": "code",
   "execution_count": null,
   "id": "eebb1d2c-e839-460f-a8d3-8ffeadd4a964",
   "metadata": {},
   "outputs": [],
   "source": []
  },
  {
   "cell_type": "code",
   "execution_count": null,
   "id": "f83df5a3-4e37-43b7-a151-c8f36abb5929",
   "metadata": {},
   "outputs": [],
   "source": [
    "#Qn 4:- \n",
    "'''\n",
    "read() :- Returns the file content\n",
    "readline() :- Returns one line from the file\n",
    "readlines() :- Returns a list of lines from the file"
   ]
  },
  {
   "cell_type": "code",
   "execution_count": null,
   "id": "ae8ec64c-4fca-4abd-884d-fbe458a53bf2",
   "metadata": {},
   "outputs": [],
   "source": [
    "#Qn 5 :- \n",
    "'''The with statement works with the open() function to open a file. Unlike open() where you have to\n",
    "close the file with the close() method, the with statement closes the file for you without you telling\n",
    "it to. This is because the with statement calls 2 built-in methods behind the scene –\n",
    "__enter()__ and __exit()__ .'''\n"
   ]
  },
  {
   "cell_type": "code",
   "execution_count": null,
   "id": "4db46763-9432-41f7-bc80-b313fe35bbac",
   "metadata": {},
   "outputs": [],
   "source": [
    "#Qn 6:- \n",
    "'''The write() method accepts a string as an argument and writes this string to the text file. Whereas,\n",
    "the writelines() method accepts an iterable i.e. a string or the list of strings as an argument and\n",
    "writes these strings to the text file.\n",
    "The write() method accepts a string as an argument and writes this string to the text file. Whereas, \n",
    "the writelines() method accepts an iterable i.e. a string or the list of strings as an argument and \n",
    "writes these strings to the text file.\n",
    "'''\n"
   ]
  }
 ],
 "metadata": {
  "kernelspec": {
   "display_name": "Python 3 (ipykernel)",
   "language": "python",
   "name": "python3"
  },
  "language_info": {
   "codemirror_mode": {
    "name": "ipython",
    "version": 3
   },
   "file_extension": ".py",
   "mimetype": "text/x-python",
   "name": "python",
   "nbconvert_exporter": "python",
   "pygments_lexer": "ipython3",
   "version": "3.10.8"
  }
 },
 "nbformat": 4,
 "nbformat_minor": 5
}
