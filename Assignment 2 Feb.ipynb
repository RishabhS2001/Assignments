{
 "cells": [
  {
   "cell_type": "code",
   "execution_count": null,
   "id": "84dc3da2-9b59-433e-9bcd-a7f1c86500e9",
   "metadata": {},
   "outputs": [],
   "source": [
    "Qn 1:- \n",
    "\n",
    "Use a for loop when you know the loop should execute n times.\n",
    "Use a while loop when the increment value is nonstandard.\n",
    "Use a while loop for reading a file into a variable.\n",
    "Use a while loop when asking for user input.\n"
   ]
  },
  {
   "cell_type": "code",
   "execution_count": 2,
   "id": "0f2d937a-d346-43ea-a4f9-0869c2072a87",
   "metadata": {},
   "outputs": [
    {
     "name": "stdout",
     "output_type": "stream",
     "text": [
      "55\n"
     ]
    }
   ],
   "source": [
    "# Qn 2:- Using while loop\n",
    "n = 10\n",
    "sum = 0\n",
    "while n > 0:\n",
    "    sum = sum + n\n",
    "    n -=1\n",
    "print(sum)"
   ]
  },
  {
   "cell_type": "code",
   "execution_count": 10,
   "id": "a926fe33-19e6-496f-ae55-302b44136bf9",
   "metadata": {},
   "outputs": [
    {
     "name": "stdout",
     "output_type": "stream",
     "text": [
      "55\n"
     ]
    }
   ],
   "source": [
    "#Qn 2 :- Using For loop\n",
    "n = 10\n",
    "sum = 0\n",
    "if n > 0 :\n",
    "    for i in range(1 , n+1):\n",
    "        sum = sum + i\n",
    "print(sum) "
   ]
  },
  {
   "cell_type": "code",
   "execution_count": 19,
   "id": "c6cc7edd-a119-4675-b79a-884d6004a224",
   "metadata": {},
   "outputs": [
    {
     "name": "stdin",
     "output_type": "stream",
     "text": [
      "Enter the unit 310\n"
     ]
    },
    {
     "name": "stdout",
     "output_type": "stream",
     "text": [
      "2250\n"
     ]
    }
   ],
   "source": [
    "#Qn 3 :- \n",
    "n = int(input(\"Enter the unit\"))\n",
    "bill = 0\n",
    "if n <= 100 :\n",
    "    bill = n * 4.5\n",
    "if n <= 200 and n > 100 :\n",
    "    bill = 450 + (n - 100)*6\n",
    "if n <= 300 and n > 200:\n",
    "    bill = 1050 + (n-200)*10\n",
    "if n > 300 :\n",
    "    bill = 2050 + (n-300)*20\n",
    "print(bill)"
   ]
  },
  {
   "cell_type": "code",
   "execution_count": null,
   "id": "efdbf3a0-41e2-4bb5-b219-cec1e9c2ecc9",
   "metadata": {},
   "outputs": [],
   "source": [
    "Write a program to filter count vowels in the below-given string."
   ]
  },
  {
   "cell_type": "code",
   "execution_count": 30,
   "id": "7d535d23-ae61-4754-b7ba-3de4956c5896",
   "metadata": {},
   "outputs": [
    {
     "name": "stdout",
     "output_type": "stream",
     "text": [
      "12\n"
     ]
    }
   ],
   "source": [
    "#Qn 5 :- \n",
    "string = \"I want to become a data scientist\"\n",
    "count = 0\n",
    "vovel = set(\"aeiouAEIOU\")\n",
    "for i in string:\n",
    "    if i in vovel:\n",
    "        count = count+1\n",
    "print(count)"
   ]
  }
 ],
 "metadata": {
  "kernelspec": {
   "display_name": "Python 3 (ipykernel)",
   "language": "python",
   "name": "python3"
  },
  "language_info": {
   "codemirror_mode": {
    "name": "ipython",
    "version": 3
   },
   "file_extension": ".py",
   "mimetype": "text/x-python",
   "name": "python",
   "nbconvert_exporter": "python",
   "pygments_lexer": "ipython3",
   "version": "3.10.8"
  }
 },
 "nbformat": 4,
 "nbformat_minor": 5
}
