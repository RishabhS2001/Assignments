{
 "cells": [
  {
   "cell_type": "code",
   "execution_count": null,
   "id": "17c872a7-88fb-4368-b340-8c3e61ba7329",
   "metadata": {},
   "outputs": [],
   "source": [
    "# Qn 1:-\n",
    "'''\n",
    "Matplotlib is a comprehensive library for creating static, animated, and interactive \n",
    "visualizations in Python. Matplotlib makes easy things easy and hard things possible. \n",
    "Create publication quality plots. Make interactive figures that can zoom, pan, update.\n",
    "Customize visual style and layout.\n",
    "\n",
    "plot(x, y)\n",
    "scatter(x, y)\n",
    "bar(x, height)\n",
    "stem(x, y)\n",
    "step(x, y)\n",
    "'''"
   ]
  },
  {
   "cell_type": "code",
   "execution_count": null,
   "id": "19d77179-08a1-4c7b-8880-4e22a4b22561",
   "metadata": {},
   "outputs": [],
   "source": [
    "#Qn 2:-\n",
    "'''\n",
    "a graph in which the values of two variables are plotted along two axes, the pattern of\n",
    "the resulting points revealing any correlation present.\n",
    "\n",
    "np.random.seed(3)\n",
    "x = 3 + np.random.normal(0, 2, 50)\n",
    "y = 3 + np.random.normal(0, 2, len(x))\n",
    "plt.xlabel(\"x axis\")\n",
    "plt.ylabel(\"y axis\")\n",
    "plt.title(\"x-y graph\")\n",
    "plt.scatter(x,y)\n",
    "\n",
    "'''"
   ]
  },
  {
   "cell_type": "code",
   "execution_count": null,
   "id": "912ed31d-58cd-4b2f-844e-8cc7b51aba38",
   "metadata": {},
   "outputs": [],
   "source": [
    "#Qn 3:-\n",
    "'''\n",
    "subplots() which acts as a utility wrapper and helps in creating common layouts of\n",
    "subplots, including the enclosing figure object, in a single call. \n",
    "\n",
    "\n",
    "import numpy as np\n",
    "import matplotlib.pyplot as plt\n",
    "\n",
    "# Data for line 1\n",
    "x1 = np.array([0, 1, 2, 3, 4, 5])\n",
    "y1 = np.array([0, 100, 200, 300, 400, 500])\n",
    "\n",
    "# Data for line 2\n",
    "x2 = np.array([0, 1, 2, 3, 4, 5])\n",
    "y2 = np.array([50, 20, 40, 20, 60, 70])\n",
    "\n",
    "# Data for line 3\n",
    "x3 = np.array([0, 1, 2, 3, 4, 5])\n",
    "y3 = np.array([10, 20, 30, 40, 50, 60])\n",
    "\n",
    "# Data for line 4\n",
    "x4 = np.array([0, 1, 2, 3, 4, 5])\n",
    "y4 = np.array([200, 350, 250, 550, 450, 150])\n",
    "\n",
    "# Creating subplots\n",
    "fig, axs = plt.subplots(2, 2)\n",
    "\n",
    "# Plotting line 1\n",
    "axs[0, 0].plot(x1, y1)\n",
    "axs[0, 0].set_title('Line 1')\n",
    "\n",
    "# Plotting line 2\n",
    "axs[0, 1].plot(x2, y2)\n",
    "axs[0, 1].set_title('Line 2')\n",
    "\n",
    "# Plotting line 3\n",
    "axs[1, 0].plot(x3, y3)\n",
    "axs[1, 0].set_title('Line 3')\n",
    "\n",
    "# Plotting line 4\n",
    "axs[1, 1].plot(x4, y4)\n",
    "axs[1, 1].set_title('Line 4')\n",
    "\n",
    "# Adjusting spacing between subplots\n",
    "plt.tight_layout()\n",
    "\n",
    "# Display the plots\n",
    "plt.show()\n",
    "\n"
   ]
  },
  {
   "cell_type": "code",
   "execution_count": null,
   "id": "7a08874d-ecfc-4301-ac43-4067ee7037df",
   "metadata": {},
   "outputs": [],
   "source": [
    "#Qn 4:-\n",
    "'''\n",
    "A bar chart (aka bar graph, column chart) plots numeric values for levels of a \n",
    "categorical feature as bars.\n",
    "\n",
    "company = np.array([\"Apple\", \"Microsoft\", \"Google\", \"AMD\"])\n",
    "profit = np.array([3000, 8000, 1000, 10000])\n",
    "# For horizontal bar\n",
    "plt.barh(company , profit)\n",
    "# for Normal bar\n",
    "plt.bar(company,profit)"
   ]
  },
  {
   "cell_type": "code",
   "execution_count": null,
   "id": "11a3c80c-1617-485a-9262-e16b7b378c4d",
   "metadata": {},
   "outputs": [],
   "source": [
    "#Qn 5:-\n",
    "'''\n",
    "Matplotlib's boxplot mainly provides a graphical summary of a data set with features \n",
    "such as minimum, first quartile, median, third quartile, and maximum.\n",
    "\n",
    "box1 = np.random.normal(100, 10, 200)\n",
    "box2 = np.random.normal(90, 20, 200)\n",
    "plt.boxplot(box1 )\n",
    "plt.boxplot(box2)\n"
   ]
  }
 ],
 "metadata": {
  "kernelspec": {
   "display_name": "Python 3 (ipykernel)",
   "language": "python",
   "name": "python3"
  },
  "language_info": {
   "codemirror_mode": {
    "name": "ipython",
    "version": 3
   },
   "file_extension": ".py",
   "mimetype": "text/x-python",
   "name": "python",
   "nbconvert_exporter": "python",
   "pygments_lexer": "ipython3",
   "version": "3.10.8"
  }
 },
 "nbformat": 4,
 "nbformat_minor": 5
}
