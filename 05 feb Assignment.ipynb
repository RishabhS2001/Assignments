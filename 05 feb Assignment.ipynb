{
 "cells": [
  {
   "cell_type": "code",
   "execution_count": null,
   "id": "1faa360b-656e-4d14-9d8b-5e94fb2c54d0",
   "metadata": {},
   "outputs": [],
   "source": [
    "#Qn 1:-\n",
    "\"\"\"Object − Objects have states and behaviors. Example: A dog has states - color, name, breed \n",
    "as well as behaviors – wagging the tail, barking, eating. An object is an instance of a class.\n",
    "\n",
    "Class − A class can be defined as a template/blueprint that describes the behavior/state that the \n",
    "object of its type support.\n",
    "Example: A dog has states - color, name, breed as well as behaviors – wagging the tail, barking,\n",
    "eating.\"\"\" \n"
   ]
  },
  {
   "cell_type": "code",
   "execution_count": null,
   "id": "546bf95e-0f98-493d-a3c3-780d6ed7a92e",
   "metadata": {},
   "outputs": [],
   "source": [
    "#Qn 2:- \n",
    "\"\"\"Abstraction.\n",
    "Encapsulation.\n",
    "Inheritance.\n",
    "Polymorphism\"\"\""
   ]
  },
  {
   "cell_type": "code",
   "execution_count": null,
   "id": "d7acd02f-c8ea-486d-a6d4-bc8fd283a202",
   "metadata": {},
   "outputs": [],
   "source": [
    "#Qn 3:- \n",
    " \"\"\"__init__ is a special python method that runs whenever a new object is created. These types of\n",
    "    functions are used to initialize the attributes of that class, E.g., if the class is Person,\n",
    "    then the attributes will be name, age, etc\"\"\""
   ]
  },
  {
   "cell_type": "code",
   "execution_count": null,
   "id": "e5cc1a53-55b8-4d73-9266-34479cfa8044",
   "metadata": {},
   "outputs": [],
   "source": [
    "#Qn 4:-\n",
    "\"\"\"It works as a reference to the object. Python uses the self parameter to refer to instance attributes \n",
    "and methods of the class\"\"\""
   ]
  },
  {
   "cell_type": "code",
   "execution_count": null,
   "id": "54785d16-58e3-440f-a324-16933449e962",
   "metadata": {},
   "outputs": [],
   "source": [
    "#Qn 5:-\n",
    "\"\"\"Inheritance allows us to define a class that inherits all the methods and properties from another class\n",
    "Multiple Inheritance\n",
    "An inheritance becomes multiple inheritances when a class inherits more than one parent class. \n",
    "Multi-level Inheritance\n",
    "For example, a class_1 is inherited by a class_2, and this class_2 also gets inherited by class_3,\n",
    "and this process goes on. This is known as multi-level inheritance.\n",
    "\n",
    "Hierarchical Inheritance\n",
    "In this, various Child classes inherit a single Parent class.\n",
    "\n",
    "\n",
    "\"\"\"\n",
    "\n"
   ]
  }
 ],
 "metadata": {
  "kernelspec": {
   "display_name": "Python 3 (ipykernel)",
   "language": "python",
   "name": "python3"
  },
  "language_info": {
   "codemirror_mode": {
    "name": "ipython",
    "version": 3
   },
   "file_extension": ".py",
   "mimetype": "text/x-python",
   "name": "python",
   "nbconvert_exporter": "python",
   "pygments_lexer": "ipython3",
   "version": "3.10.8"
  }
 },
 "nbformat": 4,
 "nbformat_minor": 5
}
