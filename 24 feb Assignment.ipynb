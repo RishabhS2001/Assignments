{
 "cells": [
  {
   "cell_type": "code",
   "execution_count": null,
   "id": "43dd21f1-6b9b-489a-ac2c-3415459eb552",
   "metadata": {},
   "outputs": [],
   "source": [
    "#Qn 1:-\n",
    "'''\n",
    "1: pd.read_csv,\n",
    "2: .len()\n",
    "3: df.iloc()\n",
    "4: df.loc()\n",
    "5: df[‘’].unique() \n",
    "'''"
   ]
  },
  {
   "cell_type": "code",
   "execution_count": null,
   "id": "d13a6733-f91b-4557-86e2-f2093b4be3d9",
   "metadata": {},
   "outputs": [],
   "source": [
    "#Qn 2 :- \n",
    "'''\n",
    "#Qn 2:-\n",
    "import pandas as pd\n",
    "\n",
    "df = pd.DataFrame({\n",
    "  \"A\": [50, 40, 30, 40],\n",
    "  \"B\": [12,34,56,78],\n",
    "  \"c\": [1,2,34,5]\n",
    "})\n",
    "df.index = range(1, len(df)*2 +1, 2)\n",
    "print(df)\n",
    "'''"
   ]
  },
  {
   "cell_type": "code",
   "execution_count": null,
   "id": "5704b705-5a91-492e-95e8-c8858a134a80",
   "metadata": {},
   "outputs": [],
   "source": [
    "#Qn 3:-\n",
    "'''\n",
    "import pandas as pd\n",
    "df = pd.DataFrame({\n",
    "    \n",
    "    \"Values\" : [10,20,30,40,50]\n",
    "})\n",
    "values_sum = df['Values'].head(3).sum()\n",
    "print(values_sum)\n",
    "\n",
    "'''\n"
   ]
  },
  {
   "cell_type": "code",
   "execution_count": null,
   "id": "2ce1a6bd-5ff2-4c76-b969-dafae2b41f49",
   "metadata": {},
   "outputs": [],
   "source": [
    "#Qn 4:-\n",
    "'''\n",
    "import pandas as pd\n",
    "df = pd.DataFrame({\n",
    "    \"Text\": [\"Krish Nayak\" , \"Sudhanshu Kumar\", \"Rishabh\"]\n",
    "})\n",
    "df['Word_Count'] = df['Text'].apply(lambda x: len(str(x).split()))\n",
    "df"
   ]
  },
  {
   "cell_type": "code",
   "execution_count": null,
   "id": "a27f030e-dc57-4419-9c4e-472470905305",
   "metadata": {},
   "outputs": [],
   "source": [
    "# Qn 5:\n",
    "'''\n",
    "The size property is used to get an int representing the number of elements in this \n",
    "object and Return the number of rows if Series.\n",
    "The shape property is used to get a tuple representing the dimensionality of the Pandas\n",
    "DataFrame.\n"
   ]
  },
  {
   "cell_type": "code",
   "execution_count": null,
   "id": "1e117f04-d47a-426e-ab8c-1db721a5ec63",
   "metadata": {},
   "outputs": [],
   "source": [
    "#Qn 6:\n",
    "\"read_excel()\"\n"
   ]
  },
  {
   "cell_type": "code",
   "execution_count": null,
   "id": "522e32d1-dfb4-44e4-8feb-beed7b7d4bde",
   "metadata": {},
   "outputs": [],
   "source": [
    "#Qn 7:\n",
    "'''\n",
    "import pandas as pd\n",
    "df = pd.DataFrame({\n",
    "\"Email\" : [\"krish@example.com\" , \"sudh@example.com\" , \"sudh.`neuron@example.com\"]\n",
    "})\n",
    "df[\"User_Name\"] = df[\"Email\"].str.extract(r'^([^@]+)')\n",
    "df\n",
    "'''"
   ]
  },
  {
   "cell_type": "code",
   "execution_count": null,
   "id": "48943606-5936-45c6-bddf-a5ba21e8417d",
   "metadata": {},
   "outputs": [],
   "source": [
    "#Qn 8:-\n",
    "'''\n",
    "import pandas as pd\n",
    "df = pd.DataFrame({\n",
    "    \"A\" : [3,8,6,2,9],\n",
    "    \"B\" : [5,2,9,3,1],\n",
    "    \"C\" : [1,7,4,5,2]    \n",
    "})\n",
    "new = df[(df['A'] > 5) & (df['B'] < 10)]\n",
    "print(new)"
   ]
  },
  {
   "cell_type": "code",
   "execution_count": null,
   "id": "dbbf5ce6-d2f0-4b9c-be42-e080719c203e",
   "metadata": {},
   "outputs": [],
   "source": [
    "#Qn 9:-\n",
    "'''\n",
    "import pandas as pd\n",
    "df = pd.DataFrame({\n",
    "\"Values\" : [2,8,9,7,5,4]\n",
    "})\n",
    "print(df.mean())\n",
    "print(df.median())\n",
    "print(df.std())\n"
   ]
  },
  {
   "cell_type": "code",
   "execution_count": null,
   "id": "73b1f491-6a5c-4325-a193-0bb8b83faa38",
   "metadata": {},
   "outputs": [],
   "source": [
    "#Qn 10:-\n",
    "'''\n",
    "def movingavg() :\n",
    "    df[\"Moving Average\"] = df.['Sales'].rolling(window = 7).mean()\n",
    "    '''"
   ]
  },
  {
   "cell_type": "code",
   "execution_count": null,
   "id": "2cc72ca0-b7a4-452a-8fa8-1a18d5ceb0b4",
   "metadata": {},
   "outputs": [],
   "source": [
    "#Qn 11:-\n",
    "'''\n",
    "import pandas as pd\n",
    "df = pd.DataFrame({\n",
    "\"Date\" : ['2023-01-01',\n",
    "'2023-01-02',\n",
    "'2023-01-03',\n",
    "'2023-01-04',\n",
    "'2023-01-05']\n",
    "})\n",
    "df['Weekday'] = pd.to_datetime(df['Date']).dt.day_name()\n",
    "'''"
   ]
  },
  {
   "cell_type": "code",
   "execution_count": null,
   "id": "046fe171-ee13-44f6-b280-76aaaeff1ec8",
   "metadata": {},
   "outputs": [],
   "source": [
    "#Qn 12:-\n",
    "'''\n",
    "def select_rows_by_date(df):\n",
    "    start_date = '2023-01-01'\n",
    "    end_date = '2023-01-31'\n",
    "    mask = (df['Date'] >= start_date) & (df['Date'] <= end_date)\n",
    "    selected_rows = df.loc[mask]\n",
    "    return selected_rows\n",
    "    '''"
   ]
  },
  {
   "cell_type": "code",
   "execution_count": null,
   "id": "587f2b60-97ad-49bd-a5c9-5a0cd5597ae8",
   "metadata": {},
   "outputs": [],
   "source": [
    "#Qn 13:-\n",
    "'''As Pandas is dependent on the NumPy library, we need to import this dependency."
   ]
  }
 ],
 "metadata": {
  "kernelspec": {
   "display_name": "Python 3 (ipykernel)",
   "language": "python",
   "name": "python3"
  },
  "language_info": {
   "codemirror_mode": {
    "name": "ipython",
    "version": 3
   },
   "file_extension": ".py",
   "mimetype": "text/x-python",
   "name": "python",
   "nbconvert_exporter": "python",
   "pygments_lexer": "ipython3",
   "version": "3.10.8"
  }
 },
 "nbformat": 4,
 "nbformat_minor": 5
}
