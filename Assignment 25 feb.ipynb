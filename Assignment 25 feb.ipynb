{
 "cells": [
  {
   "cell_type": "code",
   "execution_count": 3,
   "id": "9070d3d4-cd19-4584-a953-6be28dc082c9",
   "metadata": {},
   "outputs": [],
   "source": [
    "import pandas as pd\n",
    "course_name = ['Data Science', 'Machine Learning', 'Big Data', 'Data Engineer']\n",
    "duration = [2,3,6,4]\n",
    "df = pd.DataFrame(data ={'course_name' : course_name, 'duration' : duration})"
   ]
  },
  {
   "cell_type": "code",
   "execution_count": null,
   "id": "f9a72e78-93b4-46cd-a25f-cb6cd33d0d6b",
   "metadata": {},
   "outputs": [],
   "source": [
    "#Qn 1:-\n",
    "'''\n",
    "\n",
    "data1 =df.head(2)\n",
    "data1\n",
    "\n",
    "'''"
   ]
  },
  {
   "cell_type": "code",
   "execution_count": null,
   "id": "73ef8852-1c0a-44a2-8e36-71f29f5ea84b",
   "metadata": {},
   "outputs": [],
   "source": [
    "#Qn 2:-\n",
    "'''\n",
    "The loc() function is label based data selecting method which means that we have to pass \n",
    "the name of the row or column which we want to select. \n",
    "\n",
    "The iloc() function is an indexed-based selecting method which means that we have to pass\n",
    "an integer index in the method to select a specific row/column.\n",
    "'''"
   ]
  },
  {
   "cell_type": "code",
   "execution_count": 12,
   "id": "12195f4b-51d8-4d26-813c-b8218b028a7d",
   "metadata": {},
   "outputs": [
    {
     "name": "stdout",
     "output_type": "stream",
     "text": [
      "course_name    Big Data\n",
      "duration              6\n",
      "Name: 2, dtype: object\n",
      "course_name    Machine Learning\n",
      "duration                      3\n",
      "Name: 1, dtype: object\n"
     ]
    }
   ],
   "source": [
    "#Qn 3:-\n",
    "'''reindex = [3, 0, 1, 2]\n",
    "new_df = df.reindex(reindex)\n",
    "print(new_df.loc[2])   \n",
    "print(new_df.iloc[2])'''"
   ]
  },
  {
   "cell_type": "code",
   "execution_count": 2,
   "id": "dac9c64d-4e0c-42d6-880a-7a660b58a954",
   "metadata": {},
   "outputs": [
    {
     "data": {
      "text/html": [
       "<div>\n",
       "<style scoped>\n",
       "    .dataframe tbody tr th:only-of-type {\n",
       "        vertical-align: middle;\n",
       "    }\n",
       "\n",
       "    .dataframe tbody tr th {\n",
       "        vertical-align: top;\n",
       "    }\n",
       "\n",
       "    .dataframe thead th {\n",
       "        text-align: right;\n",
       "    }\n",
       "</style>\n",
       "<table border=\"1\" class=\"dataframe\">\n",
       "  <thead>\n",
       "    <tr style=\"text-align: right;\">\n",
       "      <th></th>\n",
       "      <th>column_1</th>\n",
       "      <th>column_2</th>\n",
       "      <th>column_3</th>\n",
       "      <th>column_4</th>\n",
       "      <th>column_5</th>\n",
       "      <th>column_6</th>\n",
       "    </tr>\n",
       "  </thead>\n",
       "  <tbody>\n",
       "    <tr>\n",
       "      <th>1</th>\n",
       "      <td>0.216240</td>\n",
       "      <td>0.396245</td>\n",
       "      <td>0.575231</td>\n",
       "      <td>0.830793</td>\n",
       "      <td>0.506509</td>\n",
       "      <td>0.265739</td>\n",
       "    </tr>\n",
       "    <tr>\n",
       "      <th>2</th>\n",
       "      <td>0.306386</td>\n",
       "      <td>0.600738</td>\n",
       "      <td>0.048921</td>\n",
       "      <td>0.280655</td>\n",
       "      <td>0.184611</td>\n",
       "      <td>0.741650</td>\n",
       "    </tr>\n",
       "    <tr>\n",
       "      <th>3</th>\n",
       "      <td>0.144147</td>\n",
       "      <td>0.648468</td>\n",
       "      <td>0.298219</td>\n",
       "      <td>0.906478</td>\n",
       "      <td>0.562963</td>\n",
       "      <td>0.339720</td>\n",
       "    </tr>\n",
       "    <tr>\n",
       "      <th>4</th>\n",
       "      <td>0.455618</td>\n",
       "      <td>0.540583</td>\n",
       "      <td>0.935997</td>\n",
       "      <td>0.815521</td>\n",
       "      <td>0.698611</td>\n",
       "      <td>0.367209</td>\n",
       "    </tr>\n",
       "    <tr>\n",
       "      <th>5</th>\n",
       "      <td>0.516009</td>\n",
       "      <td>0.613931</td>\n",
       "      <td>0.395832</td>\n",
       "      <td>0.212012</td>\n",
       "      <td>0.397811</td>\n",
       "      <td>0.842153</td>\n",
       "    </tr>\n",
       "    <tr>\n",
       "      <th>6</th>\n",
       "      <td>0.810048</td>\n",
       "      <td>0.595083</td>\n",
       "      <td>0.161918</td>\n",
       "      <td>0.779280</td>\n",
       "      <td>0.473151</td>\n",
       "      <td>0.496886</td>\n",
       "    </tr>\n",
       "  </tbody>\n",
       "</table>\n",
       "</div>"
      ],
      "text/plain": [
       "   column_1  column_2  column_3  column_4  column_5  column_6\n",
       "1  0.216240  0.396245  0.575231  0.830793  0.506509  0.265739\n",
       "2  0.306386  0.600738  0.048921  0.280655  0.184611  0.741650\n",
       "3  0.144147  0.648468  0.298219  0.906478  0.562963  0.339720\n",
       "4  0.455618  0.540583  0.935997  0.815521  0.698611  0.367209\n",
       "5  0.516009  0.613931  0.395832  0.212012  0.397811  0.842153\n",
       "6  0.810048  0.595083  0.161918  0.779280  0.473151  0.496886"
      ]
     },
     "execution_count": 2,
     "metadata": {},
     "output_type": "execute_result"
    }
   ],
   "source": [
    "import pandas as pd\n",
    "import numpy as np\n",
    "columns = ['column_1', 'column_2', 'column_3', 'column_4', 'column_5', 'column_6']\n",
    "indices = [1,2,3,4,5,6]\n",
    "#Creating a dataframe:\n",
    "df1 = pd.DataFrame(np.random.rand(6,6), columns = columns, index = indices)\n",
    "df1"
   ]
  },
  {
   "cell_type": "code",
   "execution_count": 15,
   "id": "b147ccad-5460-440d-9003-62e269f6057a",
   "metadata": {},
   "outputs": [
    {
     "data": {
      "text/plain": [
       "0.24178152100637604"
      ]
     },
     "execution_count": 15,
     "metadata": {},
     "output_type": "execute_result"
    }
   ],
   "source": [
    "#Qn 4:-\n",
    "'''df1['column_1' ].mean()\n",
    "df1['column_2' ].mean()\n",
    "df1['column_3' ].mean()\n",
    "df1['column_4' ].mean()\n",
    "df1['column_5' ].mean()\n",
    "df1['column_6' ].mean()\n",
    "\n",
    "df1['column_1'].std()'''"
   ]
  },
  {
   "cell_type": "code",
   "execution_count": null,
   "id": "7a0094bd-8b6d-4fc3-8613-d276c3166933",
   "metadata": {},
   "outputs": [],
   "source": [
    "#Qn 5:-\n",
    "'''df1.at[1, 'column_2'] = 'string_variable'\n",
    "mean_column_2 = df1['column_2'].mean()  # Calculate the mean of 'column_2'\n",
    "\n",
    "print(mean_column_2)'''"
   ]
  },
  {
   "cell_type": "code",
   "execution_count": 21,
   "id": "b1d8da1a-a306-4afb-9b68-d37485348126",
   "metadata": {},
   "outputs": [],
   "source": [
    "#Qn 6:-\n",
    "'''\n",
    "A window function executes a calculation across a related set of table rows to the\n",
    "current row.\n",
    "Rolling Window\n",
    "Weighted window\n",
    "Expanding window\n",
    "Exponentially Weighted window\n",
    "'''\n"
   ]
  },
  {
   "cell_type": "code",
   "execution_count": null,
   "id": "c98b013d-dc3d-4eb2-a90a-6c6a1feefade",
   "metadata": {},
   "outputs": [],
   "source": [
    "#Qn 7:-\n",
    "'''\n",
    "import datetime\n",
    "\n",
    "current_date = datetime.datetime.now()\n",
    "\n",
    "current_month = current_date.strftime(\"%B\")\n",
    "current_year = current_date.strftime(\"%Y\")\n",
    "\n",
    "print(f\"Current month: {current_month}\")\n",
    "print(f\"Current year: {current_year}\")\n",
    "'''"
   ]
  },
  {
   "cell_type": "code",
   "execution_count": null,
   "id": "b5f5c935-e9fa-46a1-ab24-81c1d00224e6",
   "metadata": {},
   "outputs": [],
   "source": [
    "#Qn 8:-\n",
    "'''\n",
    "import pandas as pd\n",
    "date1 = input(\"Enter the first date (YYYY-MM-DD): \")\n",
    "date2 = input(\"Enter the second date (YYYY-MM-DD): \")\n",
    "date1 = pd.to_datetime(date1)\n",
    "date2 = pd.to_datetime(date2)\n",
    "time_diff = date2 - date1\n",
    "\n",
    "days = time_diff.days\n",
    "hours = time_diff.seconds // 3600\n",
    "minutes = (time_diff.seconds // 60) % 60\n",
    "\n",
    "print(f\"The difference between the two dates is {days} days, {hours} hours, and {minutes} minutes.\")\n",
    "'''"
   ]
  },
  {
   "cell_type": "code",
   "execution_count": null,
   "id": "49b91fa6-0120-442a-ac08-9705a59c7137",
   "metadata": {},
   "outputs": [],
   "source": [
    "#Qn 9:-\n",
    "'''\n",
    "import pandas as pd\n",
    "file_path = input(\"Enter the CSV file path: \")\n",
    "column_name = input(\"Enter the column name to convert to categorical: \")\n",
    "category_order = input(\"Enter the category order (comma-separated values): \").split(\",\")\n",
    "data = pd.read_csv(file_path)\n",
    "data[column_name] = pd.Categorical(data[column_name], categories=category_order, ordered=True)\n",
    "sorted_data = data.sort_values(by=column_name)\n",
    "print(sorted_data)\n",
    "'''"
   ]
  },
  {
   "cell_type": "code",
   "execution_count": null,
   "id": "a4fd426d-899c-4a5c-a7ee-59d7a5106114",
   "metadata": {},
   "outputs": [],
   "source": [
    "#Qn 10:-\n",
    "'''\n",
    "import pandas as pd\n",
    "import matplotlib.pyplot as plt\n",
    "\n",
    "file_path = input(\"Enter the CSV file path: \")\n",
    "data = pd.read_csv(file_path)\n",
    "data['Date'] = pd.to_datetime(data['Date'])\n",
    "grouped_data = data.groupby(['Product Category', 'Date'])['Sales'].sum().reset_index()\n",
    "pivot_data = grouped_data.pivot(index='Date', columns='Product Category', values='Sales')\n",
    "pivot_data.plot(kind='bar', stacked=True, figsize=(10, 6))\n",
    "plt.xlabel('Date')\n",
    "plt.ylabel('Sales')\n",
    "plt.title('Sales by Product Category over Time')\n",
    "plt.show()\n",
    "'''"
   ]
  },
  {
   "cell_type": "code",
   "execution_count": null,
   "id": "b8ac3931-e7e5-49ff-ac73-e232d432be08",
   "metadata": {},
   "outputs": [],
   "source": [
    "#Qn:-11\n",
    "'''\n",
    "import pandas as pd\n",
    "file_path = input(\"Enter the CSV file path: \")\n",
    "data = pd.read_csv(file_path)\n",
    "mean_score = data['Test Score'].mean()\n",
    "median_score = data['Test Score'].median()\n",
    "mode_score = data['Test Score'].mode().values[0]\n",
    "results = pd.DataFrame({\n",
    "    'Metric': ['Mean', 'Median', 'Mode'],\n",
    "    'Score': [mean_score, median_score, mode_score]\n",
    "})\n",
    "print(results)\n"
   ]
  }
 ],
 "metadata": {
  "kernelspec": {
   "display_name": "Python 3 (ipykernel)",
   "language": "python",
   "name": "python3"
  },
  "language_info": {
   "codemirror_mode": {
    "name": "ipython",
    "version": 3
   },
   "file_extension": ".py",
   "mimetype": "text/x-python",
   "name": "python",
   "nbconvert_exporter": "python",
   "pygments_lexer": "ipython3",
   "version": "3.10.8"
  }
 },
 "nbformat": 4,
 "nbformat_minor": 5
}
