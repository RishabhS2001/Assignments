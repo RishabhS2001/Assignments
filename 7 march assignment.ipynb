{
 "cells": [
  {
   "cell_type": "code",
   "execution_count": null,
   "id": "9a544681-c5cb-4ad8-a56f-fcc6043cfaf4",
   "metadata": {},
   "outputs": [],
   "source": [
    "#Qn 1:-\n",
    "'''\n",
    "Mean,\n",
    "Median,\n",
    "Mode."
   ]
  },
  {
   "cell_type": "code",
   "execution_count": null,
   "id": "e4445db2-e16a-49bc-b286-096d3b1c521f",
   "metadata": {},
   "outputs": [],
   "source": [
    "#Qn 2:-\n",
    "'''\n",
    "The difference between mean, median and mode are: Mean is the average value of the given\n",
    "observations. Median is the middle value of the given observations. Mode is the most \n",
    "repeated value in the given observation.\n",
    "\n",
    "attempts to describe a whole set of data with a single value that represents the middle\n",
    "or centre of its distribution."
   ]
  },
  {
   "cell_type": "code",
   "execution_count": 4,
   "id": "3d1a4fe1-cd0c-4bc2-9b65-eef7f86969cf",
   "metadata": {},
   "outputs": [
    {
     "data": {
      "text/plain": [
       "177.01875"
      ]
     },
     "execution_count": 4,
     "metadata": {},
     "output_type": "execute_result"
    }
   ],
   "source": [
    "#Qn 3:-\n",
    "import numpy as np\n",
    "dt = [178,177,176,177,178.2,178,175,179,180,175,178.9,176.2,177,172.5,178,176.5]\n",
    "np.mean(dt)"
   ]
  },
  {
   "cell_type": "code",
   "execution_count": 5,
   "id": "14d37425-db17-4185-90fb-02f221f9eba3",
   "metadata": {},
   "outputs": [
    {
     "data": {
      "text/plain": [
       "177.0"
      ]
     },
     "execution_count": 5,
     "metadata": {},
     "output_type": "execute_result"
    }
   ],
   "source": [
    "np.median(dt)"
   ]
  },
  {
   "cell_type": "code",
   "execution_count": 7,
   "id": "c49ad0c4-dcb0-46f3-b610-431034ad5b2d",
   "metadata": {},
   "outputs": [
    {
     "name": "stderr",
     "output_type": "stream",
     "text": [
      "/tmp/ipykernel_5106/672278750.py:2: FutureWarning: Unlike other reduction functions (e.g. `skew`, `kurtosis`), the default behavior of `mode` typically preserves the axis it acts along. In SciPy 1.11.0, this behavior will change: the default value of `keepdims` will become False, the `axis` over which the statistic is taken will be eliminated, and the value None will no longer be accepted. Set `keepdims` to True or False to avoid this warning.\n",
      "  stats.mode(dt)\n"
     ]
    },
    {
     "data": {
      "text/plain": [
       "ModeResult(mode=array([177.]), count=array([3]))"
      ]
     },
     "execution_count": 7,
     "metadata": {},
     "output_type": "execute_result"
    }
   ],
   "source": [
    "from scipy import stats\n",
    "stats.mode(dt)"
   ]
  },
  {
   "cell_type": "code",
   "execution_count": 9,
   "id": "7b657cac-a74a-490b-8a2a-ee02d1bc21b2",
   "metadata": {},
   "outputs": [
    {
     "data": {
      "text/plain": [
       "1.7885814036548633"
      ]
     },
     "execution_count": 9,
     "metadata": {},
     "output_type": "execute_result"
    }
   ],
   "source": [
    "#Qn 4:-\n",
    "dt1 = [178,177,176,177,178.2,178,175,179,180,175,178.9,176.2,177,172.5,178,176.5]\n",
    "np.std(dt1)"
   ]
  },
  {
   "cell_type": "code",
   "execution_count": null,
   "id": "4499f488-e741-4ded-ac60-8c758d85dc3d",
   "metadata": {},
   "outputs": [],
   "source": [
    "#Qn 5:-\n",
    "'''\n",
    "It helps to understand the variation of data and provides a piece of information about the distribution data. Range,\n",
    "IOR, Variance, and Standard Deviation are the methods used to understand the distribution data. Dispersion of data helps t\n",
    "o identify outliers in a given dataset.\n",
    "\n"
   ]
  },
  {
   "cell_type": "code",
   "execution_count": null,
   "id": "4d153aa6-b6f4-43fe-81fc-9d5679ccd7c5",
   "metadata": {},
   "outputs": [],
   "source": [
    "#Qn 6:-\n",
    "'''\n",
    "A Venn diagram illustrates the relationships between two or more data sets"
   ]
  },
  {
   "cell_type": "code",
   "execution_count": null,
   "id": "5b4a6b88-1d72-40bb-8dc6-26107a05c8bd",
   "metadata": {},
   "outputs": [],
   "source": [
    "#Qn 7:-\n",
    "'''\n",
    "sets A = (2,3,4,5,6,7) & B = (0,2,6,8,10)\n",
    "\n",
    "A n B = (2,6)\n",
    "A u B = (2,3,4,5,6,7,8,10)\n"
   ]
  },
  {
   "cell_type": "code",
   "execution_count": null,
   "id": "a28d3413-31aa-4917-98fd-b6d129253925",
   "metadata": {},
   "outputs": [],
   "source": [
    "#Qn 8:-\n",
    "'''\n",
    "Skewness is a measurement of the distortion of symmetrical distribution or asymmetry in a data set."
   ]
  },
  {
   "cell_type": "code",
   "execution_count": null,
   "id": "f7b9a3b0-539e-4969-bca2-c79611df86f9",
   "metadata": {},
   "outputs": [],
   "source": [
    "#Qn 9:-\n",
    "'''\n",
    "If the distribution of data is skewed to the right, the mode is often less than the median, which is less than the mean."
   ]
  },
  {
   "cell_type": "code",
   "execution_count": null,
   "id": "8c020c6f-2815-42a4-92d7-662874016db3",
   "metadata": {},
   "outputs": [],
   "source": [
    "#Qn 10:-\n",
    "'''\n",
    "Covariance is an indicator of the extent to which 2 random variables are dependent on each other. A higher number denotes\n",
    "higher dependency. Correlation is a statistical measure that indicates how strongly two variables are related. The value\n",
    "of covariance lies in the range of -∞ and +∞.\n",
    "\n"
   ]
  },
  {
   "cell_type": "code",
   "execution_count": null,
   "id": "23e11f83-099f-4a3f-8e05-e8e59a036bc7",
   "metadata": {},
   "outputs": [],
   "source": [
    "#Qn 11:-\n",
    "'''\n",
    "The general formula for calculating the sample mean is given by x̄ = ( Σ xi ) / n. \n",
    "Here, x̄ represents the sample mean, xi refers all X sample values and n stands for the number of sample terms in the data set."
   ]
  },
  {
   "cell_type": "code",
   "execution_count": null,
   "id": "c1e174d8-ff44-41ab-92c6-df2035b1d6d4",
   "metadata": {},
   "outputs": [],
   "source": [
    "#Qn 12:-\n",
    "'''\n",
    "For normally distributed data, all three measures of central tendency will give you the same answer so they can all be used.\n",
    "In skewed distributions, the median is the best measure because it is unaffected by extreme outliers or non-symmetric\n",
    "distributions of scores. The mean and mode can vary in skewed distributions."
   ]
  },
  {
   "cell_type": "code",
   "execution_count": null,
   "id": "89a4f929-09c7-47cc-b22a-c71bb99f0f1c",
   "metadata": {},
   "outputs": [],
   "source": [
    "#Qn 13:-\n",
    "'''\n",
    "Covariance shows you how the two variables differ, whereas correlation shows you how the two variables are related."
   ]
  },
  {
   "cell_type": "code",
   "execution_count": null,
   "id": "3711ee29-7885-4df2-9421-06ccf0735821",
   "metadata": {},
   "outputs": [],
   "source": [
    "#Qn 14:-\n",
    "'''\n",
    "Measures of central tendency are mean, median and mode. Outliers affect the mean value of the data but have little \n",
    "effect on the median or mode of a given set of data."
   ]
  }
 ],
 "metadata": {
  "kernelspec": {
   "display_name": "Python 3 (ipykernel)",
   "language": "python",
   "name": "python3"
  },
  "language_info": {
   "codemirror_mode": {
    "name": "ipython",
    "version": 3
   },
   "file_extension": ".py",
   "mimetype": "text/x-python",
   "name": "python",
   "nbconvert_exporter": "python",
   "pygments_lexer": "ipython3",
   "version": "3.10.8"
  }
 },
 "nbformat": 4,
 "nbformat_minor": 5
}
