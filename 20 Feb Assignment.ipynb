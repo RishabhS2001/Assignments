{
 "cells": [
  {
   "cell_type": "code",
   "execution_count": null,
   "id": "329e732d-5e65-46a9-9af6-1583005c3507",
   "metadata": {},
   "outputs": [],
   "source": [
    "#Qn 1:-\n",
    "'''\n",
    "Get and Post methods are the HTTP request methods used inside the <form> tag to send form data to the\n",
    "server.\n",
    "HTTP protocol enables the communication between the client and the server where a browser can be the\n",
    "client, and an application running on a computer system that hosts your website can be the server.\n",
    "\n",
    "The GET method is used to submit the HTML form data. This data is collected by the predefined $_GET \n",
    "variable for processing.\n",
    "\n",
    "Unlike the GET method, it does not have a limit on the amount of information to be sent. The information\n",
    "sent from an HTML form using the POST method is not visible to anyone."
   ]
  },
  {
   "cell_type": "code",
   "execution_count": null,
   "id": "e67832b4-4934-43ea-abb4-ad02ede196e7",
   "metadata": {},
   "outputs": [],
   "source": [
    "#Qn 2;-\n",
    "'''\n",
    "The request object contains all the data that is sent from the client to the server."
   ]
  },
  {
   "cell_type": "code",
   "execution_count": null,
   "id": "b69ee5eb-9474-4bdc-9ab1-62f235f22155",
   "metadata": {},
   "outputs": [],
   "source": [
    "#Qn 3:-\n",
    "'''\n",
    "Flask redirect is defined as a function or utility in Flask which allows developers to redirect users to\n",
    "a specified URL and assign a specified status code. When this function is called, a response object is \n",
    "returned, and the redirection happens to the target location with the status code."
   ]
  },
  {
   "cell_type": "code",
   "execution_count": null,
   "id": "109cf68c-957b-4a4a-9ab5-c9d66c115fd8",
   "metadata": {},
   "outputs": [],
   "source": [
    "#Qn 4:-\n",
    "'''\n",
    "Templates - Templates are files that contain static data as well as placeholders for dynamic data. \n",
    "render_template is used to generate output from a template file based on the Jinja2 engine that is \n",
    "found in the application's templates folder."
   ]
  },
  {
   "cell_type": "code",
   "execution_count": null,
   "id": "bb674553-a112-450f-ac72-c971181ca765",
   "metadata": {},
   "outputs": [],
   "source": [
    "#Qn 5:-\n",
    "'''\n",
    "from flask import Flask, jsonify, request\n",
    "  \n",
    "app = Flask(__name__)\n",
    "  \n",
    "@app.route('/', methods = ['GET', 'POST'])\n",
    "def home():\n",
    "    if(request.method == 'GET'):\n",
    "  \n",
    "        data = \"hello world\"\n",
    "        return jsonify({'data': data})"
   ]
  }
 ],
 "metadata": {
  "kernelspec": {
   "display_name": "Python 3 (ipykernel)",
   "language": "python",
   "name": "python3"
  },
  "language_info": {
   "codemirror_mode": {
    "name": "ipython",
    "version": 3
   },
   "file_extension": ".py",
   "mimetype": "text/x-python",
   "name": "python",
   "nbconvert_exporter": "python",
   "pygments_lexer": "ipython3",
   "version": "3.10.8"
  }
 },
 "nbformat": 4,
 "nbformat_minor": 5
}
