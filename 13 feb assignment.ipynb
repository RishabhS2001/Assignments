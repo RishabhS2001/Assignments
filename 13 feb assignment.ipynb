{
 "cells": [
  {
   "cell_type": "code",
   "execution_count": null,
   "id": "7d6042cb-f46c-46ca-82c9-1b190637f838",
   "metadata": {},
   "outputs": [],
   "source": [
    "#Qn 1:-\n",
    "'''Custom exceptions provide you the flexibility to add attributes and methods that are not part of a \n",
    "standard Java exception. These can store additional information, like an application-specific error code,\n",
    "or provide utility methods that can be used to handle or present the exception to a user."
   ]
  },
  {
   "cell_type": "code",
   "execution_count": null,
   "id": "827032b3-5c9a-4632-ab77-e95ef9a69f53",
   "metadata": {},
   "outputs": [],
   "source": [
    "#Qn 2:- \n",
    "def print_exception_hierarchy(exception_class, level=0):\n",
    "    print(' ' * level + exception_class.__name__)\n",
    "    for subclass in exception_class.__subclasses__():\n",
    "        print_exception_hierarchy(subclass, level + 1)\n",
    "\n",
    "print_exception_hierarchy(BaseException)"
   ]
  },
  {
   "cell_type": "code",
   "execution_count": null,
   "id": "22f46aef-8b23-490d-8599-170784fc5439",
   "metadata": {},
   "outputs": [],
   "source": [
    "#Qn 3:- \n",
    "'''The arithmetic error occurs when an error is encountered during numeric calculations in Python.\n",
    "This includes Zerodivision Error and Floating point error. In addition, zero division error is raised\n",
    "when you divide a numeric value by zero. When we run this code, we will get a ZeroDivision error."
   ]
  },
  {
   "cell_type": "code",
   "execution_count": null,
   "id": "f59b8ec6-c703-469c-8120-9005585995fc",
   "metadata": {},
   "outputs": [],
   "source": [
    "#Qn 4:-\n",
    "'''LookupError Exception is the Base class for errors raised when something can't be found\n",
    " The IndexError is raised when trying to access an invalid index within a list \n",
    " For example, if you have a list with three items and you try to access the fourth item, you will \n",
    " get an IndexError.\n",
    " \n",
    " The KeyError is raised when accessing an invalid key within a dict ."
   ]
  },
  {
   "cell_type": "code",
   "execution_count": null,
   "id": "c98e4420-eba0-4178-8900-b1249f6813b6",
   "metadata": {},
   "outputs": [],
   "source": [
    "#Qn 5:- \n",
    "'''ImportError occurs when the Python program tries to import module which does not exist in the \n",
    "private table.\n",
    "The 'module not found' error is a syntax error that appears when the static import statement cannot\n",
    "find the file at the declared path.\n"
   ]
  },
  {
   "cell_type": "code",
   "execution_count": null,
   "id": "f448d1b5-b986-49df-b149-37a84d81f30b",
   "metadata": {},
   "outputs": [],
   "source": [
    "#Qn 6:-\n",
    "'''\n",
    "1:- Use always a specific exception\n",
    "2:- Print always a proper message \n",
    "3:- Always try to log your error\n",
    "4:- Alwyas avoid to write a multiple exception handling \n",
    "5:- Document all the error \n",
    "    cleanup all the resources"
   ]
  }
 ],
 "metadata": {
  "kernelspec": {
   "display_name": "Python 3 (ipykernel)",
   "language": "python",
   "name": "python3"
  },
  "language_info": {
   "codemirror_mode": {
    "name": "ipython",
    "version": 3
   },
   "file_extension": ".py",
   "mimetype": "text/x-python",
   "name": "python",
   "nbconvert_exporter": "python",
   "pygments_lexer": "ipython3",
   "version": "3.10.8"
  }
 },
 "nbformat": 4,
 "nbformat_minor": 5
}
