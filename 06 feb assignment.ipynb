{
 "cells": [
  {
   "cell_type": "code",
   "execution_count": null,
   "id": "69c8fc9a-7162-4215-9cf9-b9178e91b669",
   "metadata": {},
   "outputs": [],
   "source": [
    "#Qn 1:-\n",
    "def product_of_numbers(lst):\n",
    "    flat_lst = [item for sublist in lst for item in (sublist if isinstance(sublist, list) else [sublist])]\n",
    "    numbers_lst = [num for num in flat_lst if isinstance(num, (int, float))]\n",
    "    product = 1\n",
    "    for num in numbers_lst:\n",
    "        product *= num\n",
    "    return product"
   ]
  },
  {
   "cell_type": "code",
   "execution_count": 2,
   "id": "a6f4c9fa-6108-4d1e-b7da-8bd491bb61d6",
   "metadata": {},
   "outputs": [],
   "source": [
    "#Qn 2:-\n",
    "def encrypt_message(message):\n",
    "    message = message.lower()\n",
    "    encrypted_message = \"\"\n",
    "    for char in message:\n",
    "        if char == \" \":\n",
    "            encrypted_message += \"$\"\n",
    "        elif char.isalpha():\n",
    "            encrypted_message += chr(122 - ord(char) + 97)\n",
    "        else:\n",
    "            encrypted_message += char\n",
    "    return encrypted_message\n"
   ]
  },
  {
   "cell_type": "code",
   "execution_count": 3,
   "id": "0aed081d-d119-4ed8-af50-08ca67e9aab7",
   "metadata": {},
   "outputs": [
    {
     "name": "stdout",
     "output_type": "stream",
     "text": [
      "Original message: I want to become a Data Scientist.\n",
      "Encrypted message: r$dzmg$gl$yvxlnv$z$wzgz$hxrvmgrhg.\n"
     ]
    }
   ],
   "source": [
    "sample_message = \"I want to become a Data Scientist.\"\n",
    "print(\"Original message:\", sample_message)\n",
    "print(\"Encrypted message:\", encrypt_message(sample_message))"
   ]
  },
  {
   "cell_type": "code",
   "execution_count": null,
   "id": "e95379ff-15ac-48c6-8ca6-7760f6842b89",
   "metadata": {},
   "outputs": [],
   "source": []
  }
 ],
 "metadata": {
  "kernelspec": {
   "display_name": "Python 3 (ipykernel)",
   "language": "python",
   "name": "python3"
  },
  "language_info": {
   "codemirror_mode": {
    "name": "ipython",
    "version": 3
   },
   "file_extension": ".py",
   "mimetype": "text/x-python",
   "name": "python",
   "nbconvert_exporter": "python",
   "pygments_lexer": "ipython3",
   "version": "3.10.8"
  }
 },
 "nbformat": 4,
 "nbformat_minor": 5
}
