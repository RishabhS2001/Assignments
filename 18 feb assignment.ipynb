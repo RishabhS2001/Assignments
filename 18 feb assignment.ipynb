{
 "cells": [
  {
   "cell_type": "code",
   "execution_count": null,
   "id": "95ab75e1-a08f-49a9-8d59-05be7c2b0fe2",
   "metadata": {},
   "outputs": [],
   "source": [
    "#Qn 1:-\n",
    "'''\n",
    "APIs are used in web applications to connect user-facing front ends with critical back-end functionality\n",
    "and data. APIs are used to deliver material by streaming services such as Spotify and Netflix."
   ]
  },
  {
   "cell_type": "code",
   "execution_count": null,
   "id": "0e1017e8-9370-4345-8448-1a819e4db62d",
   "metadata": {},
   "outputs": [],
   "source": [
    "#Qn 2:-\n",
    "'''\n",
    "Efficiency: \n",
    "When you have content that is automatically published and made available on different channels\n",
    "simultaneously, APIs allow for more efficient data distribution. Adaptability: One of the greatest\n",
    "benefits of APIs is the ability it has to adapt to changes through data migration and flexibility of\n",
    "services.\n",
    "\n",
    "Disadvantage:\n",
    "Security Concerns: API infrastructures can be vulnerable to security breaches, such as SQL injection\n",
    "attacks and cross-site scripting (XSS) attacks, making it crucial to implement security measures to \n",
    "protect against these threats."
   ]
  },
  {
   "cell_type": "code",
   "execution_count": null,
   "id": "9700a089-fbea-4ba9-9def-5136400d4397",
   "metadata": {},
   "outputs": [],
   "source": [
    "#Qn 3:-\n",
    "'''\n",
    "Web API is an API over the web which can be accessed using HTTP protocol.\n",
    "AAPI use TCP/IP protocol while web API uses HTTP Protocol."
   ]
  },
  {
   "cell_type": "code",
   "execution_count": null,
   "id": "554817f2-72df-481d-af25-b1b7e6be468c",
   "metadata": {},
   "outputs": [],
   "source": [
    "#Qn 4:-\n",
    "'''\n",
    "REST is a set of guidelines that offers flexible implementation. \n",
    "SOAP is a protocol with specific requirements like XML messaging.\n",
    "\n",
    "As SOAP can only transfer messages as XML files, your SOAP API will be less performant, as XML is a\n",
    "verbose format compared to JSON."
   ]
  },
  {
   "cell_type": "code",
   "execution_count": null,
   "id": "1beba712-b37e-4b7e-8deb-c8f4552e0f03",
   "metadata": {},
   "outputs": [],
   "source": [
    "#Qn 5:-\n",
    "'''\n",
    "SOAP:-\n",
    "SOAP can't use REST because it is a protocol.\n",
    "SOAP uses services interfaces to expose the business logic.\n",
    "SOAP defines standards to be strictly followed.\n",
    "\n",
    "REST :-\n",
    "REST can use SOAP web services because it is a concept and can use any protocol like HTTP, SOAP.\n",
    "REST uses URI to expose business logic\n",
    "REST does not define too much standards like SOAP."
   ]
  }
 ],
 "metadata": {
  "kernelspec": {
   "display_name": "Python 3 (ipykernel)",
   "language": "python",
   "name": "python3"
  },
  "language_info": {
   "codemirror_mode": {
    "name": "ipython",
    "version": 3
   },
   "file_extension": ".py",
   "mimetype": "text/x-python",
   "name": "python",
   "nbconvert_exporter": "python",
   "pygments_lexer": "ipython3",
   "version": "3.10.8"
  }
 },
 "nbformat": 4,
 "nbformat_minor": 5
}
