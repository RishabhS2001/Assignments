{
 "cells": [
  {
   "cell_type": "code",
   "execution_count": null,
   "id": "01fbc1bf-1507-472d-98a6-56ce166e5be1",
   "metadata": {},
   "outputs": [],
   "source": [
    "#Qn 1:-\n",
    "'''\n",
    "Web scraping is the process of using bots to extract content and data from a website.\n",
    "Web scraping typically extracts large amounts of data from websites for a variety of uses such as price\n",
    "monitoring, enriching machine learning models, financial data aggregation, monitoring consumer sentiment,\n",
    "news tracking, etc."
   ]
  },
  {
   "cell_type": "code",
   "execution_count": null,
   "id": "92d4db4f-b9ab-4372-b880-bc9c671570fd",
   "metadata": {},
   "outputs": [],
   "source": [
    "#Qn 2:-\n",
    "'''\n",
    "Human copy-and-paste. The simplest form of web scraping is manually copying and pasting data from a web \n",
    "page into a text file or spreadsheet.\n",
    "Text pattern matching.\n",
    "HTTP programming. \n",
    "HTML parsing. \n",
    "DOM parsing. \n",
    "Vertical aggregation. \n",
    "Semantic annotation recognizing. \n",
    "Computer vision web-page analysis."
   ]
  },
  {
   "cell_type": "code",
   "execution_count": 1,
   "id": "41fca439-95dc-4f99-a6a5-4b4137b12f33",
   "metadata": {},
   "outputs": [],
   "source": [
    "#Qn 3:-\n",
    "'''\n",
    "Beautiful Soup is a python package and as the name suggests, parses the unwanted data and helps to \n",
    "organize and format the messy web data by fixing bad HTML and present to us in an easily-traversible XML\n",
    "structures."
   ]
  },
  {
   "cell_type": "code",
   "execution_count": null,
   "id": "eb6344b0-2bd0-4f8b-8d32-62ac0c3cd5af",
   "metadata": {},
   "outputs": [],
   "source": [
    "#Qn 4:-\n",
    "'''\n",
    "Flask is a lightweight framework to build websites. We'll use this to parse our collected data and display\n",
    "it as HTML in a new HTML file. The requests module allows us to send http requests to the website we want\n",
    "to scrape. The first line imports the Flask class and the render_template method from the flask library.\n"
   ]
  },
  {
   "cell_type": "code",
   "execution_count": null,
   "id": "336146fa-4642-4896-896e-489cda1c7c5e",
   "metadata": {},
   "outputs": [],
   "source": [
    "#Qn 5:-\n",
    "'''\n",
    "Elastic Beanstack\n",
    "\n"
   ]
  }
 ],
 "metadata": {
  "kernelspec": {
   "display_name": "Python 3 (ipykernel)",
   "language": "python",
   "name": "python3"
  },
  "language_info": {
   "codemirror_mode": {
    "name": "ipython",
    "version": 3
   },
   "file_extension": ".py",
   "mimetype": "text/x-python",
   "name": "python",
   "nbconvert_exporter": "python",
   "pygments_lexer": "ipython3",
   "version": "3.10.8"
  }
 },
 "nbformat": 4,
 "nbformat_minor": 5
}
