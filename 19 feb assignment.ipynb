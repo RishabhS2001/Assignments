{
 "cells": [
  {
   "cell_type": "code",
   "execution_count": null,
   "id": "5534f394-1263-4295-b1b2-a6413ec07b5e",
   "metadata": {},
   "outputs": [],
   "source": [
    "#Qn 1:-\n",
    "'''\n",
    "Flask is a web framework that provides libraries to build lightweight web applications in python.\n",
    "Pros of Flask\n",
    "It is a lightweight framework that offers hassle-free development.\n",
    "Provide flexibility to the developer to experiment with their modules or architecture.\n",
    "It is suitable for small projects.\n",
    "Offers a built-in development server and fast debugger.\n",
    "Easily scalable for the applications.\n",
    "Support for secure cookies."
   ]
  },
  {
   "cell_type": "code",
   "execution_count": null,
   "id": "dc96a7e2-6b87-4a89-a455-38926fa598f0",
   "metadata": {},
   "outputs": [],
   "source": [
    "#Qn 2:-\n",
    "'''\n",
    "from flask import Flask\n",
    "\n",
    "app = Flask(__name__)\n",
    "\n",
    "@app.route(\"/\")\n",
    "def hello_world():\n",
    "    return \"<h1>Hello, World!</h1>\"\n",
    "\n",
    "if __name__==\"__main__\":\n",
    "    app.run(host=\"0.0.0.0\")"
   ]
  },
  {
   "cell_type": "code",
   "execution_count": null,
   "id": "a3720497-0875-465e-b119-0b40834bb7ac",
   "metadata": {},
   "outputs": [],
   "source": [
    "#Qn 3:-\n",
    "'''\n",
    "App routing is the technique used to map the specific URL with the associated function intended to \n",
    "perform some task.\n",
    "\n",
    "The route() decorator in Flask is used to bind an URL to a function. As a result when the URL is\n",
    "mentioned in the browser, the function is executed to give the result."
   ]
  },
  {
   "cell_type": "code",
   "execution_count": null,
   "id": "618b856c-a731-415b-99e6-7473a4fafa76",
   "metadata": {},
   "outputs": [],
   "source": [
    "#Qn 4:-\n",
    "'''\n",
    "from flask import Flask\n",
    "\n",
    "app = Flask(__name__)\n",
    "\n",
    "@app.route(\"/welcome\")\n",
    "def hello_world5():\n",
    "    s = {\n",
    "        \"Company Name\": \"ABC Corporation\",\n",
    "        \"Location\": \"India\",\n",
    "        \"Contact Detail\": \"999-999-9999\"       \n",
    "    }\n",
    "    return s\n",
    "\n",
    "\n",
    "if __name__==\"__main__\":\n",
    "    app.run(host=\"0.0.0.0\")"
   ]
  },
  {
   "cell_type": "code",
   "execution_count": null,
   "id": "d5a98063-4a47-4c2b-bc02-fe7d699f6f1f",
   "metadata": {},
   "outputs": [],
   "source": [
    "#Qn 5:-\n",
    "'''\n",
    "To build a URL to a specific function, use the url_for() function. It accepts the name of the function\n",
    "as its first argument and any number of keyword arguments, each corresponding to a variable part of the\n",
    "URL rule.\n",
    "\n",
    "from flask import Flask\n",
    "\n",
    "app = Flask(__name__)\n",
    "\n",
    "@app.route(\"/test1\") #Here after '/' test1 is used as url_for b/c The url_for() function is used to \n",
    "                        build a URL to the specific function dynamically.\n",
    "def hello_world():\n",
    "    return \"<h1>Hello, World!</h1>\"\n",
    "\n",
    "if __name__==\"__main__\":\n",
    "    app.run(host=\"0.0.0.0\")"
   ]
  }
 ],
 "metadata": {
  "kernelspec": {
   "display_name": "Python 3 (ipykernel)",
   "language": "python",
   "name": "python3"
  },
  "language_info": {
   "codemirror_mode": {
    "name": "ipython",
    "version": 3
   },
   "file_extension": ".py",
   "mimetype": "text/x-python",
   "name": "python",
   "nbconvert_exporter": "python",
   "pygments_lexer": "ipython3",
   "version": "3.10.8"
  }
 },
 "nbformat": 4,
 "nbformat_minor": 5
}
