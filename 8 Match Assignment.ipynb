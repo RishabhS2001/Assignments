{
 "cells": [
  {
   "cell_type": "code",
   "execution_count": null,
   "id": "3cd842f7-fee8-4630-aeb0-d78bc069e7e1",
   "metadata": {},
   "outputs": [],
   "source": [
    "#Qn 1:-\n",
    "'''\n",
    "The Probability Density Function(PDF) defines the probability function representing the \n",
    "density of a continuous random variable lying between a specific range of values."
   ]
  },
  {
   "cell_type": "code",
   "execution_count": null,
   "id": "03382b69-49b6-400b-bc37-f1dd426e3f2b",
   "metadata": {},
   "outputs": [],
   "source": [
    "#Qn 2:-\n",
    "'''\n",
    "There are two types of probability distributions:\n",
    "Discrete probability distributions.\n",
    "Continuous probability distributions"
   ]
  },
  {
   "cell_type": "code",
   "execution_count": null,
   "id": "74723455-80b3-4f57-aad1-10aaa3014493",
   "metadata": {},
   "outputs": [],
   "source": [
    "#Qn 3:-\n",
    "'''\n",
    "from scipy.stats import norm\n",
    "import numpy as np\n",
    "  \n",
    "data_start = -5\n",
    "data_end = 5\n",
    "data_points = 11\n",
    "data = np.linspace(data_start, data_end, data_points)\n",
    "  \n",
    "mean = np.mean(data)\n",
    "std = np.std(data)\n",
    "  \n",
    "probability_pdf = norm.pdf(3, loc=mean, scale=std)\n",
    "print(probability_pdf)"
   ]
  },
  {
   "cell_type": "code",
   "execution_count": null,
   "id": "778a7664-f95a-4efe-968f-4cb183f5ee3d",
   "metadata": {},
   "outputs": [],
   "source": [
    "#Qn 4:-\n",
    "'''\n",
    "The properties of the binomial distribution are: There are only two distinct possible \n",
    "outcomes: true/false, success/failure, yes/no.\n",
    "Here are some real-life examples of Binomial distribution:\n",
    "Rolling a die: Probability of getting the number of six (6) (0, 1, 2, 3… ...\n",
    "Tossing a coin: Probability of getting the number of heads (0, 1, 2, 3…"
   ]
  },
  {
   "cell_type": "code",
   "execution_count": null,
   "id": "b297681d-f82e-4a60-ba59-cb9ccc1349d9",
   "metadata": {},
   "outputs": [],
   "source": [
    "#Qn 5:-\n",
    "'''\n",
    "import numpy as np\n",
    "import matplotlib.pyplot as plt\n",
    "p = 0.4  # Probability of success\n",
    "n = 1000  # Sample size\n",
    "\n",
    "sample = np.random.binomial(1, p, n)\n",
    "\n",
    "plt.hist(sample, bins=2, edgecolor='black')\n",
    "plt.xlabel('Success or Failure')\n",
    "plt.ylabel('Frequency')\n",
    "plt.title('Binomial Distribution (p=0.4, n=1000)')\n",
    "plt.xticks([0, 1], ['Failure', 'Success'])\n",
    "plt.show()\n",
    "\n"
   ]
  },
  {
   "cell_type": "code",
   "execution_count": null,
   "id": "28258d45-f21f-45aa-ae17-5f7905fb9ae0",
   "metadata": {},
   "outputs": [],
   "source": [
    "#Qn 6:-\n",
    "'''\n",
    "import math\n",
    "\n",
    "def poisson_cdf(mean, k):\n",
    "    cdf = 0.0\n",
    "    for i in range(k + 1):\n",
    "        cdf += math.exp(-mean) * (mean ** i) / math.factorial(i)\n",
    "    return cdf"
   ]
  },
  {
   "cell_type": "code",
   "execution_count": null,
   "id": "8749058f-5656-4e83-84f5-c3239d224bc1",
   "metadata": {},
   "outputs": [],
   "source": [
    "#Qn 7:-\n",
    "'''\n",
    "Binomial distribution describes the distribution of binary data from a finite sample. \n",
    "Thus it gives the probability of getting r events out of n trials. Poisson distribution \n",
    "describes the distribution of binary data from an infinite sample. Thus it gives the \n",
    "probability of getting r events in a population.\n",
    "\n"
   ]
  },
  {
   "cell_type": "code",
   "execution_count": null,
   "id": "7816b03b-e07a-4dbb-a96c-e2b4d992ec30",
   "metadata": {},
   "outputs": [],
   "source": [
    "#Qn 8:-\n",
    "'''\n",
    "import numpy as np\n",
    "\n",
    "mean = 5  # Mean of the Poisson distribution\n",
    "sample_size = 1000  # Sample size\n",
    "\n",
    "sample = np.random.poisson(mean, sample_size)\n",
    "\n",
    "sample_mean = np.mean(sample)\n",
    "sample_variance = np.var(sample)\n",
    "\n",
    "print(\"Sample Mean:\", sample_mean)\n",
    "print(\"Sample Variance:\", sample_variance)\n"
   ]
  },
  {
   "cell_type": "code",
   "execution_count": null,
   "id": "2e304d5e-1caa-4d65-92c9-bf513f8f04c6",
   "metadata": {},
   "outputs": [],
   "source": [
    "#Qn 9:-\n",
    "'''\n",
    "If \\mu is the average number of successes occurring in a given time interval or region in\n",
    "the Poisson distribution. Then the mean and the variance of the Poisson distribution are\n",
    "both equal to \\mu.\n"
   ]
  },
  {
   "cell_type": "code",
   "execution_count": null,
   "id": "adba88b6-2316-42f8-ab36-214432e29ce2",
   "metadata": {},
   "outputs": [],
   "source": [
    "#Qn 10:-\n",
    "'''\n",
    "This means that most of the observed data is clustered near the mean, while the data\n",
    "become less frequent when farther away from the mean. "
   ]
  }
 ],
 "metadata": {
  "kernelspec": {
   "display_name": "Python 3 (ipykernel)",
   "language": "python",
   "name": "python3"
  },
  "language_info": {
   "codemirror_mode": {
    "name": "ipython",
    "version": 3
   },
   "file_extension": ".py",
   "mimetype": "text/x-python",
   "name": "python",
   "nbconvert_exporter": "python",
   "pygments_lexer": "ipython3",
   "version": "3.10.8"
  }
 },
 "nbformat": 4,
 "nbformat_minor": 5
}
