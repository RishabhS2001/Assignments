{
 "cells": [
  {
   "cell_type": "code",
   "execution_count": null,
   "id": "9f5444a8-afaa-4c36-91ab-4dcf148915a2",
   "metadata": {},
   "outputs": [],
   "source": [
    "#Qn 1:-\n",
    "'''\n",
    "the practice or science of collecting and analysing numerical data in large quantities,\n",
    "especially for the purpose of inferring proportions in a whole from those in a \n",
    "representative sample.\n",
    "\n"
   ]
  },
  {
   "cell_type": "code",
   "execution_count": null,
   "id": "4c4d7174-88da-42c5-9016-ec26a814685c",
   "metadata": {},
   "outputs": [],
   "source": [
    "#Qn 2:- \n",
    "'''\n",
    "There are two kinds of Statistics, which are descriptive Statistics and inferential\n",
    "Statistics. In descriptive Statistics, the Data or Collection Data are described in a\n",
    "summarized way, whereas in inferential Statistics, we make use of it in order to explain\n",
    "the descriptive kind. Both of them are used on a large scale.\n",
    "'''"
   ]
  },
  {
   "cell_type": "code",
   "execution_count": null,
   "id": "684b9b99-8c42-4f00-a915-03e146365565",
   "metadata": {},
   "outputs": [],
   "source": [
    "#Qn 3:-\n",
    "'''\n",
    "In statistics, data can be classified into different types based on their nature and \n",
    "characteristics. The main types of data are:\n",
    "\n",
    "Nominal Data: Nominal data represent categories or groups without any inherent order or\n",
    "numerical value. Examples include gender (male, female), colors (red, blue, green), or\n",
    "types of animals (cat, dog, bird).\n",
    "\n",
    "Ordinal Data: Ordinal data have categories that can be ordered or ranked, but the\n",
    "differences between the categories may not be uniform. Examples include educational \n",
    "attainment levels (high school, bachelor's degree, master's degree) or customer\n",
    "satisfaction ratings (poor, fair, good, excellent).\n",
    "\n",
    "Interval Data: Interval data have ordered categories with equal intervals between them,\n",
    "but there is no true zero point. Examples include temperature measured in Celsius or \n",
    "Fahrenheit. The difference between 10°C and 20°C is the same as the difference between \n",
    "20°C and 30°C, but zero degrees Celsius does not represent the complete absence of \n",
    "temperature.\n",
    "\n",
    "Ratio Data: Ratio data have ordered categories with equal intervals between them and a\n",
    "meaningful zero point. Ratios and proportions can be calculated with this type of data.\n",
    "Examples include height, weight, age, or income. For instance, if one person's income is\n",
    "double another person's income, it reflects a meaningful ratio."
   ]
  },
  {
   "cell_type": "code",
   "execution_count": null,
   "id": "ce88be74-9f4f-4f7e-9cb3-35c9c7f1af2a",
   "metadata": {},
   "outputs": [],
   "source": [
    "#Qn 4:-\n",
    "'''\n",
    "(i) - Qualitative : Ordinal\n",
    "(ii) - Qualitative : Nominal\n",
    "(iii) - Quantitative : Continous\n",
    "(iv) - Quantitative : Descrete"
   ]
  },
  {
   "cell_type": "code",
   "execution_count": null,
   "id": "ea502e08-08e7-46c0-9474-3e06347d3e97",
   "metadata": {},
   "outputs": [],
   "source": [
    "#Qn 5:-\n",
    "'''\n",
    "Levels of measurement, also known as scales of measurement, refer to the different ways\n",
    "in which variables can be categorized or measured. There are four commonly recognized\n",
    "levels of measurement: nominal, ordinal, interval, and ratio. Each level represents a \n",
    "different degree of information and properties associated with the variable being\n",
    "measured.\n",
    "\n",
    "Nominal Level: At the nominal level, variables are categorized into distinct groups or\n",
    "categories without any inherent order. Nominal variables are qualitative in nature and \n",
    "do not have numerical values. Examples include:\n",
    "\n",
    "Eye color (blue, brown, green)\n",
    "Marital status (single, married, divorced)\n",
    "Animal species (dog, cat, bird)\n",
    "\n",
    "\n",
    "Ordinal Level: In ordinal measurement, variables have categories that can be ordered or\n",
    "ranked, but the differences between the categories may not be uniform. The relative\n",
    "position or rank of categories is meaningful, but the magnitude of differences is not\n",
    "precisely quantifiable. Examples include:\n",
    "\n",
    "Educational attainment levels (high school, bachelor's degree, master's degree)\n",
    "Survey ratings (poor, fair, good, excellent)\n",
    "Ranking in a competition (first place, second place, third place)\n",
    "\n",
    "\n",
    "Interval Level: Interval measurement involves variables with ordered categories and\n",
    "equal intervals between them. Unlike ordinal variables, the differences between\n",
    "categories are quantifiable and uniform. However, there is no true zero point. Examples\n",
    "include:\n",
    "\n",
    "Temperature measured in Celsius or Fahrenheit\n",
    "Years (e.g., 2000, 2010, 2020)\n",
    "Calendar months (January, February, March)\n",
    "\n",
    "\n",
    "Ratio Level: Ratio measurement includes variables with ordered categories, equal\n",
    "intervals, and a meaningful zero point. Ratios and proportions can be calculated with\n",
    "these variables. Examples include:\n",
    "\n",
    "Height (in centimeters)\n",
    "Weight (in kilograms)\n",
    "Age (in years)\n",
    "Income (in dollars)"
   ]
  },
  {
   "cell_type": "code",
   "execution_count": null,
   "id": "30449d11-3976-42f5-948e-6676f65982ad",
   "metadata": {},
   "outputs": [],
   "source": [
    "#Qn 6:-\n",
    "'''\n",
    "Understanding the level of measurement when analyzing data is important because it\n",
    "determines the appropriate statistical analyses, operations, and interpretations that\n",
    "can be applied to the data. \n",
    "\n",
    "\n",
    "Understanding the level of measurement when analyzing data is important because it\n",
    "determines the appropriate statistical analyses, operations, and interpretations that\n",
    "can be applied to the data. Different levels of measurement have specific properties and\n",
    "constraints, and using inappropriate statistical techniques can lead to misleading or \n",
    "incorrect conclusions. Here's an example to illustrate the importance of understanding\n",
    "the level of measurement:\n",
    "\n",
    "Suppose we have data on the educational attainment level of individuals in a survey, \n",
    "classified as \"high school,\" \"bachelor's degree,\" \"master's degree,\" and \"doctorate\n",
    "degree.\" If we treat this data as nominal (unordered) and assign arbitrary numerical\n",
    "values to the categories (e.g., high school = 1, bachelor's degree = 2, etc.), we might\n",
    "perform an analysis that involves calculating the mean educational attainment."
   ]
  },
  {
   "cell_type": "code",
   "execution_count": null,
   "id": "0d8e15d4-84df-4784-8966-73b49c28c611",
   "metadata": {},
   "outputs": [],
   "source": [
    "#Qn 7:-\n",
    "'''\n",
    "Nominal data is classified without a natural order or rank, whereas ordinal data has a \n",
    "predetermined or natural order. On the other hand, numerical or quantitative data will\n",
    "always be a number that can be measured."
   ]
  },
  {
   "cell_type": "code",
   "execution_count": null,
   "id": "bbbe61f9-c7e2-48fb-a52f-7b0f516a0a0e",
   "metadata": {},
   "outputs": [],
   "source": [
    "#Qn 8:-\n",
    "'''\n",
    "Histogram\n"
   ]
  },
  {
   "cell_type": "code",
   "execution_count": null,
   "id": "cf4e840c-8489-44d2-8352-5a3e222abffc",
   "metadata": {},
   "outputs": [],
   "source": [
    "#Qn 9:-\n",
    "'''\n",
    "Inferential statistics helps to compare data, make hypotheses and predictions.\n",
    "Descriptive statistics explains already known data related to a particular sample\n",
    "or population of a small size."
   ]
  },
  {
   "cell_type": "code",
   "execution_count": null,
   "id": "6635929c-475a-49d8-90ed-12cfc2207ed5",
   "metadata": {},
   "outputs": [],
   "source": [
    "#Qn 10:-\n",
    "'''\n",
    "These are some common measures of central tendency\n",
    "Median: “middle value” or the average of “middle two values” in a data set when the \n",
    "numbers are arranged in an order. Mode: value that occurs with greatest frequency.\n",
    "\n",
    "These are some common measures of variability\n",
    "Range \n",
    "Standard Deviation\n",
    "Varience\n",
    "\n",
    "These measures, when used together, provide a comprehensive description of a dataset. \n",
    "They help summarize the data's central tendency, typical value, and the extent of \n",
    "variability or spread around that central value. However, it's important to note that \n",
    "no single measure can fully capture the complexity of a dataset, and it is often useful \n",
    "to consider multiple measures to gain a deeper understanding."
   ]
  }
 ],
 "metadata": {
  "kernelspec": {
   "display_name": "Python 3 (ipykernel)",
   "language": "python",
   "name": "python3"
  },
  "language_info": {
   "codemirror_mode": {
    "name": "ipython",
    "version": 3
   },
   "file_extension": ".py",
   "mimetype": "text/x-python",
   "name": "python",
   "nbconvert_exporter": "python",
   "pygments_lexer": "ipython3",
   "version": "3.10.8"
  }
 },
 "nbformat": 4,
 "nbformat_minor": 5
}
