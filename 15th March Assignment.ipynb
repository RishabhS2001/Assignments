{
 "cells": [
  {
   "cell_type": "code",
   "execution_count": null,
   "id": "bda07e6f-488e-48f0-b11b-29ef6dbd3c90",
   "metadata": {},
   "outputs": [],
   "source": [
    "#Qn 1:-\n",
    "'''\n",
    "AI:-  Smart Application that can perform its awn task without any human Inetrvention.\n",
    "\n",
    "ML:-  It provide statstool to analyze, visualise predictive module, Forecasting.\n",
    "\n",
    "DL:-  Mimic the human brain."
   ]
  },
  {
   "cell_type": "code",
   "execution_count": null,
   "id": "2513c302-1c2c-41f3-a879-aae8b3af79b6",
   "metadata": {},
   "outputs": [],
   "source": [
    "#Qn 2:-\n",
    "'''\n",
    "It is defined by its use of labeled datasets to train algorithms that to classify data \n",
    "or predict outcomes accurately.\n",
    "Eg - Spam Detection"
   ]
  },
  {
   "cell_type": "code",
   "execution_count": null,
   "id": "1fc74ec8-972f-4b23-a7e7-0023002be159",
   "metadata": {},
   "outputs": [],
   "source": [
    "#Qn 3:-\n",
    "'''\n",
    " Unsupervised machine learning uses machine learning algorithms to analyze and cluster\n",
    " unlabeled datasets. These algorithms discover hidden patterns or data groupings without\n",
    " the need for human intervention.\n",
    " \n",
    " eg -  K-Means Clustering, Principal Component Analysis and Hierarchical Clustering"
   ]
  },
  {
   "cell_type": "code",
   "execution_count": null,
   "id": "1f54de0e-9fa8-4a8d-8b04-76fc34e8e01c",
   "metadata": {},
   "outputs": [],
   "source": [
    "#Qn 4:-\n",
    "'''\n",
    "AI is a computer algorithm which exhibits intelligence through decision making. ML is an\n",
    "AI algorithm which allows system to learn from data. DL is a ML algorithm that uses\n",
    "deep(more than one layer) neural networks to analyze data and provide output accordingly.\n",
    "Search Trees and much complex math is involved in AI."
   ]
  },
  {
   "cell_type": "code",
   "execution_count": null,
   "id": "3f619533-86f9-4e69-b848-26e8b0678a16",
   "metadata": {},
   "outputs": [],
   "source": [
    "#Qn 5:-\n",
    "'''\n",
    "The main difference between these types is the level of availability of ground truth data,\n",
    "which is prior knowledge of what the output of the model should be for a given input."
   ]
  },
  {
   "cell_type": "code",
   "execution_count": null,
   "id": "fc0d4cd5-a8d7-4323-a1a8-42c1812a4afb",
   "metadata": {},
   "outputs": [],
   "source": [
    "#Qn 6:-\n",
    "'''\n",
    "Training data is the set of the data on which the actual training takes place. Validation\n",
    "split helps to improve the model performance by fine-tuning the model after each epoch. \n",
    "\n",
    "Train - Set of data used for learning (by the model), that is, to fit the parameters\n",
    "to the machine learning model\n",
    "\n",
    "Validate - Set of data used to provide an unbiased evaluation of a model fitted on the \n",
    "training dataset while tuning model hyperparameters.\n",
    "\n",
    "Test - Set of data used to provide an unbiased evaluation of a final model fitted on the\n",
    "training dataset.\n"
   ]
  },
  {
   "cell_type": "code",
   "execution_count": null,
   "id": "c8325301-90a3-4fc9-94fe-3c2be265254f",
   "metadata": {},
   "outputs": [],
   "source": [
    "#Qn 7:- \n",
    "'''\n",
    "Anomaly detection techniques of unsupervised nature assume that normal data points occur\n",
    "considerably more frequently than anomalous data points. This assumption is used to \n",
    "classify data points that occur less frequently as anomalies. Unsupervised techniques\n",
    "assign each data point a score instead of a label."
   ]
  },
  {
   "cell_type": "code",
   "execution_count": null,
   "id": "4fc72f2a-caec-49cb-86ba-689cab484b3f",
   "metadata": {},
   "outputs": [],
   "source": [
    "#Qn 8:-\n",
    "'''\n",
    "The most commonly used Supervised Learning algorithms are decision tree, logistic \n",
    "regression, linear regression, support vector machine. \n",
    "\n",
    "The most commonly used Unsupervised Learning algorithms are k-means clustering,\n",
    "hierarchical clustering, and apriori algorithm."
   ]
  }
 ],
 "metadata": {
  "kernelspec": {
   "display_name": "Python 3 (ipykernel)",
   "language": "python",
   "name": "python3"
  },
  "language_info": {
   "codemirror_mode": {
    "name": "ipython",
    "version": 3
   },
   "file_extension": ".py",
   "mimetype": "text/x-python",
   "name": "python",
   "nbconvert_exporter": "python",
   "pygments_lexer": "ipython3",
   "version": "3.10.8"
  }
 },
 "nbformat": 4,
 "nbformat_minor": 5
}
