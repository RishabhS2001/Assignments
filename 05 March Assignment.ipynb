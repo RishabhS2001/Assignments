{
 "cells": [
  {
   "cell_type": "code",
   "execution_count": null,
   "id": "ff4ee5c0-8596-4978-b868-ad82093dff41",
   "metadata": {},
   "outputs": [],
   "source": [
    "#Qn 1:-\n",
    "'''\n",
    "from bokeh.plotting import figure, show\n",
    "from bokeh.io import output_notebook\n",
    "\n",
    "x = [1, 2, 3, 4, 5]\n",
    "y = [6, 7, 2, 4, 5]\n",
    "\n",
    "p = figure(title=\"Simple Bokeh Plot\", x_axis_label='X', y_axis_label='Y')\n",
    "\n",
    "p.line(x, y, line_width=2)\n",
    "\n",
    "output_notebook()  # For Jupyter Notebook compatibility\n",
    "show(p)\n",
    "'''"
   ]
  },
  {
   "cell_type": "code",
   "execution_count": null,
   "id": "5d0c3a43-71e3-404b-accd-66d4fb7dc8fd",
   "metadata": {},
   "outputs": [],
   "source": [
    "#Qn 2:-\n",
    "'''\n",
    "In Bokeh, glyphs are the visual markers or shapes that represent data points in a plot.\n",
    "They can be used to display various types of data, such as lines, circles, squares, \n",
    "triangles, and more.\n",
    "\n",
    "from bokeh.plotting import figure, show\n",
    "from bokeh.io import output_notebook\n",
    "x = [1, 2, 3, 4, 5]\n",
    "y = [6, 7, 2, 4, 5]\n",
    "p = figure(title=\"Bokeh Plot with Glyphs\", x_axis_label='X', y_axis_label='Y')\n",
    "p.circle(x, y, size=10, color='red', alpha=0.8)\n",
    "p.line(x, y, line_width=2, line_color='blue')\n",
    "output_notebook() \n",
    "show(p)\n"
   ]
  },
  {
   "cell_type": "code",
   "execution_count": null,
   "id": "fdac9ac8-2d15-47b9-bb12-76bf17b5ff58",
   "metadata": {},
   "outputs": [],
   "source": [
    "#Qn 3:-\n",
    "'''\n",
    "from bokeh.plotting import figure, show\n",
    "from bokeh.io import output_notebook\n",
    "\n",
    "x = [1, 2, 3, 4, 5]\n",
    "y = [6, 7, 2, 4, 5]\n",
    "\n",
    "p = figure(title=\"Customized Bokeh Plot\", x_axis_label='X', y_axis_label='Y', width=500, height=400)\n",
    "\n",
    "p.line(x, y, line_width=2, legend_label='Line')\n",
    "\n",
    "p.xaxis.axis_label_text_font_style = 'italic'\n",
    "p.yaxis.axis_label_text_font_style = 'italic'\n",
    "\n",
    "p.title.text_color = 'blue'\n",
    "p.title.text_font_size = '18pt'\n",
    "\n",
    "p.legend.location = 'top_left'\n",
    "p.legend.label_text_font_size = '12pt'\n",
    "\n",
    "output_notebook()  \n",
    "show(p)\n"
   ]
  },
  {
   "cell_type": "code",
   "execution_count": null,
   "id": "01b37c41-a4c5-4f33-ac89-3512fb34e472",
   "metadata": {},
   "outputs": [],
   "source": [
    "#Qn 4:-\n",
    "'''\n",
    "Bokeh server makes it easy to create interactive web applications that connect front-end\n",
    "UI events to running Python code. Bokeh creates high-level Python models, such as plots,\n",
    "ranges, axes, and glyphs, and then converts these objects to JSON to pass them to its\n",
    "client library, BokehJS."
   ]
  },
  {
   "cell_type": "code",
   "execution_count": null,
   "id": "27c4c152-138d-488a-a36b-268d34173d91",
   "metadata": {},
   "outputs": [],
   "source": [
    "#Qn 5:-\n",
    "'''\n",
    "To embed a Bokeh plot into a web page or dashboard using Flask or Django, you can\n",
    "follow these general steps:\n",
    "\n",
    "Generate the Bokeh plot and save it to an HTML file.\n",
    "Integrate the generated HTML file into your Flask or Django application."
   ]
  }
 ],
 "metadata": {
  "kernelspec": {
   "display_name": "Python 3 (ipykernel)",
   "language": "python",
   "name": "python3"
  },
  "language_info": {
   "codemirror_mode": {
    "name": "ipython",
    "version": 3
   },
   "file_extension": ".py",
   "mimetype": "text/x-python",
   "name": "python",
   "nbconvert_exporter": "python",
   "pygments_lexer": "ipython3",
   "version": "3.10.8"
  }
 },
 "nbformat": 4,
 "nbformat_minor": 5
}
