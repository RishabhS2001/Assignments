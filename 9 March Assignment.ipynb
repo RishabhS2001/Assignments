{
 "cells": [
  {
   "cell_type": "code",
   "execution_count": null,
   "id": "99ddc4be-cf90-44eb-945c-0478aa9bf0dc",
   "metadata": {},
   "outputs": [],
   "source": [
    "#Qn 1:-\n",
    "'''\n",
    "Probability mass function denotes the probability that a discrete random variable will \n",
    "take on a particular value. Probability density function gives the probability that a \n",
    "continuous random variable will lie between a certain specified interval.\n",
    "\n"
   ]
  },
  {
   "cell_type": "code",
   "execution_count": null,
   "id": "9158c217-6d56-4ef5-b477-4a24439b5b14",
   "metadata": {},
   "outputs": [],
   "source": [
    "#Qn 2:-\n",
    "'''\n",
    "The Cumulative Distribution Function (CDF) of a real-valued random variable X, evaluated\n",
    "at x, is the probability function that X will take a value less than or equal to x. \n",
    "It is used to describe the probability distribution of random variables in a table."
   ]
  },
  {
   "cell_type": "code",
   "execution_count": null,
   "id": "ef85598b-f1f8-4878-b6a6-20b461c4e6c7",
   "metadata": {},
   "outputs": [],
   "source": [
    "#Qn 3:-\n",
    "'''\n",
    "The height of people is an example of normal distribution. Most of the people in a\n",
    "specific population are of average height. The number of people taller and shorter \n",
    "than the average height people is almost equal, and a very small number of people are\n",
    "either extremely tall or extremely short.\n"
   ]
  },
  {
   "cell_type": "code",
   "execution_count": null,
   "id": "7bd3081f-cccd-4f14-bdb1-14d2dd0ff641",
   "metadata": {},
   "outputs": [],
   "source": [
    "#Qn 4:-\n",
    "'''\n",
    "For example, “Height of people” is something that follows a normal distribution pattern \n",
    "perfectly: Most people are of average height, the numbers of people that are taller and \n",
    "shorter than average are fairly equal and a very small (and still roughly equivalent) \n",
    "number of people are either extremely tall or extremely short.\n"
   ]
  },
  {
   "cell_type": "code",
   "execution_count": null,
   "id": "620a0074-1d4a-4418-a2f4-58fe00eae3d8",
   "metadata": {},
   "outputs": [],
   "source": [
    "#Qn 5:-\n",
    "'''\n",
    "The Bernoulli distribution represents the success or failure of a single Bernoulli trial.\n",
    "The Binomial Distribution represents the number of successes and failures in n \n",
    "independent Bernoulli trials for some given value of n."
   ]
  },
  {
   "cell_type": "code",
   "execution_count": null,
   "id": "0d78a3b8-e63d-46e0-a633-f98d14bccddd",
   "metadata": {},
   "outputs": [],
   "source": [
    "#Qn 6:-\n",
    "'''\n",
    "To calculate the probability that a randomly selected observation from a normally \n",
    "distributed dataset with a mean of 50 and a standard deviation of 10 will be greater\n",
    "than 60, we can use the Z-score and the standard normal distribution.\n",
    "\n",
    "The Z-score formula is given by:\n",
    "Z = (X - μ) / σ\n",
    "\n",
    "Where:\n",
    "Z is the Z-score\n",
    "X is the value of interest\n",
    "μ is the mean of the distribution\n",
    "σ is the standard deviation of the distribution\n",
    "\n",
    "To find the probability of a value greater than 60, we need to calculate the area under \n",
    "the standard normal curve to the right of the Z-score corresponding to 60.\n",
    "\n",
    "Let's calculate the Z-score and the corresponding probability using the standard normal\n",
    "distribution table or a Z-score calculator:\n",
    "\n",
    "Z = (60 - 50) / 10 = 1\n",
    "\n",
    "Using the standard normal distribution table, the probability of a Z-score greater than\n",
    "1 is approximately 0.1587.\n",
    "\n",
    "Therefore, the probability that a randomly selected observation from the given dataset\n",
    "will be greater than 60 is approximately 0.1587 or 15.87%."
   ]
  },
  {
   "cell_type": "code",
   "execution_count": null,
   "id": "5c049126-9da3-4072-a8a1-5e4520eac1d6",
   "metadata": {},
   "outputs": [],
   "source": [
    "#Qn 7:-\n",
    "'''\n",
    " In statistics, uniform distribution refers to a type of probability distribution in \n",
    " which all outcomes are equally likely. "
   ]
  },
  {
   "cell_type": "code",
   "execution_count": null,
   "id": "01323322-061f-4fff-b793-579135f392ee",
   "metadata": {},
   "outputs": [],
   "source": [
    "#Qn 8:-\n",
    "'''\n",
    "The z-score shows the number of standard deviations a given data point lies from the mean.\n",
    "So, standard deviation must be calculated first because the z-score uses it to \n",
    "communicate a data point's variability.\n"
   ]
  },
  {
   "cell_type": "code",
   "execution_count": null,
   "id": "f0769bed-f2f8-4502-801b-cb81a9820c68",
   "metadata": {},
   "outputs": [],
   "source": [
    "#Qn 9:-\n",
    "'''\n",
    "The central limit theorem says that the sampling distribution of the mean will always be\n",
    "normally distributed, as long as the sample size is large enough. "
   ]
  },
  {
   "cell_type": "code",
   "execution_count": null,
   "id": "0045e1e9-5d53-47d2-bf02-22a3f572aa2d",
   "metadata": {},
   "outputs": [],
   "source": [
    "#Qn 10:-\n",
    "'''\n",
    "Independence: The observations in the sample are assumed to be independent of each other.\n",
    "This means that the value of one observation does not depend on or influence the value \n",
    "of any other observation in the sample.\n",
    "\n",
    "Random Sampling: The observations are assumed to be drawn randomly from the population\n",
    "of interest. Random sampling ensures that the sample is representative of the population,\n",
    "and the observations are not systematically biased.\n",
    "\n",
    "Finite Variance: The population from which the sample is drawn should have a finite\n",
    "variance (or a finite second moment). This assumption ensures that the variability in \n",
    "the population is not too extreme."
   ]
  }
 ],
 "metadata": {
  "kernelspec": {
   "display_name": "Python 3 (ipykernel)",
   "language": "python",
   "name": "python3"
  },
  "language_info": {
   "codemirror_mode": {
    "name": "ipython",
    "version": 3
   },
   "file_extension": ".py",
   "mimetype": "text/x-python",
   "name": "python",
   "nbconvert_exporter": "python",
   "pygments_lexer": "ipython3",
   "version": "3.10.8"
  }
 },
 "nbformat": 4,
 "nbformat_minor": 5
}
