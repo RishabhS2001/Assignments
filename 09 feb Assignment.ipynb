{
 "cells": [
  {
   "cell_type": "code",
   "execution_count": 1,
   "id": "d299c7a0-f1d1-4115-bf20-89795f7bf2e9",
   "metadata": {},
   "outputs": [],
   "source": [
    "#Qn 1:-\n",
    "class vehicle:\n",
    "    def __init__(self, name_of_vehicle, max_speed , average_of_vehicle):\n",
    "        self.name_of_vehicle = name_of_vehicle\n",
    "        self.max_speed = max_speed\n",
    "        self.average_of_vehicle =average_of_vehicle"
   ]
  },
  {
   "cell_type": "code",
   "execution_count": 1,
   "id": "068cdc8b-09e1-42d6-a2ce-038e72d5bf0c",
   "metadata": {},
   "outputs": [
    {
     "name": "stdout",
     "output_type": "stream",
     "text": [
      "Toyota Camry has a seating capacity of 5.\n"
     ]
    }
   ],
   "source": [
    "#Qn 2:-\n",
    "# define the parent class Vehicle\n",
    "class Vehicle:\n",
    "    def __init__(self, name, color):\n",
    "        self.name = name\n",
    "        self.color = color\n",
    "\n",
    "    def get_name(self):\n",
    "        return self.name\n",
    "\n",
    "    def get_color(self):\n",
    "        return self.color\n",
    "\n",
    "\n",
    "# define the child class Car, inheriting from Vehicle\n",
    "class Car(Vehicle):\n",
    "    def seating_capacity(self, capacity):\n",
    "        return f\"{self.get_name()} has a seating capacity of {capacity}.\"\n",
    "\n",
    "# example usage\n",
    "my_car = Car(\"Toyota Camry\", \"blue\")\n",
    "print(my_car.seating_capacity(5))  # \"Toyota Camry has a seating capacity of 5.\""
   ]
  },
  {
   "cell_type": "code",
   "execution_count": null,
   "id": "4e89abfe-abf0-4a36-b202-9d3975d34eef",
   "metadata": {},
   "outputs": [],
   "source": [
    "#QN 3:-\n",
    "'''Multiple Inheritance :- When a class is derived from more than one base class it is multiple inheritance\n",
    "'''\n",
    "\n",
    "class class1:\n",
    "    def prn(self):\n",
    "        return \"this is cls1\"\n",
    "\n",
    "\n",
    "class class2:\n",
    "    def pn(self):\n",
    "        return \"this is cls2\"\n",
    "\n",
    "\n",
    "class class3(class1, class2):\n",
    "    pass\n",
    "    \n",
    "obj_cls3 = class3\n",
    "\n",
    "obj_cls3.prn()\n",
    "\n"
   ]
  },
  {
   "cell_type": "code",
   "execution_count": null,
   "id": "0b6ffd7d-66f3-4e71-8772-7689e6e1cdb1",
   "metadata": {},
   "outputs": [],
   "source": [
    "#Qn 4:-\n",
    "'''Getter: A method that allows you to access an attribute in a given class. \n",
    "Setter: A method that allows you to set or mutate the value of an attribute in a class'''\n",
    "\n",
    "class getSet:\n",
    "    def __init__(self, age = 0):\n",
    "         self._age = age\n",
    "      \n",
    "    def get_age(self):\n",
    "        return self._age\n",
    "      \n",
    "    def set_age(self, x):\n",
    "        self._age = x\n",
    "\n",
    "        \n",
    "ris = getSet()\n",
    "ris.set_age(21)\n",
    "\n",
    "\n",
    "print(ris.get_age())"
   ]
  },
  {
   "cell_type": "code",
   "execution_count": null,
   "id": "88e816a6-8f65-43fe-8cb4-93dd4a0352aa",
   "metadata": {},
   "outputs": [],
   "source": [
    "#Qn 5:\n",
    "'''Method overriding is an ability of any object-oriented programming language that allows a subclass\n",
    "or child class to provide a specific implementation of a method that is already provided by one of its\n",
    "super-classes or parent classes'''\n",
    "class Parent():\n",
    "      \n",
    "    def __init__(self):\n",
    "        self.value = \"Inside Parent\"\n",
    "          \n",
    "    def show(self):\n",
    "        print(self.value)\n",
    "          \n",
    "class Child(Parent):\n",
    "      \n",
    "    def __init__(self):\n",
    "        self.value = \"Inside Child\"\n",
    "          \n",
    "    def show(self):\n",
    "        print(self.value)\n",
    "          \n",
    "        \n",
    "obj1 = Parent()\n",
    "obj2 = Child()\n",
    "  \n",
    "obj1.show()\n",
    "obj2.show()"
   ]
  }
 ],
 "metadata": {
  "kernelspec": {
   "display_name": "Python 3 (ipykernel)",
   "language": "python",
   "name": "python3"
  },
  "language_info": {
   "codemirror_mode": {
    "name": "ipython",
    "version": 3
   },
   "file_extension": ".py",
   "mimetype": "text/x-python",
   "name": "python",
   "nbconvert_exporter": "python",
   "pygments_lexer": "ipython3",
   "version": "3.10.8"
  }
 },
 "nbformat": 4,
 "nbformat_minor": 5
}
