{
 "cells": [
  {
   "cell_type": "code",
   "execution_count": 1,
   "id": "28dbfc5e-d270-41df-b72a-6414521aba53",
   "metadata": {},
   "outputs": [],
   "source": [
    "import pandas as pd"
   ]
  },
  {
   "cell_type": "code",
   "execution_count": 2,
   "id": "3598b4a5-01a6-4c6b-9656-c628f39d3d74",
   "metadata": {},
   "outputs": [],
   "source": [
    "#Qn 1:-\n",
    "lst = [4, 8, 15, 16, 23, 42]\n",
    "df = pd.DataFrame(lst)"
   ]
  },
  {
   "cell_type": "code",
   "execution_count": 5,
   "id": "e9dec75c-4dfe-4b42-b9e4-5b176a675e8d",
   "metadata": {},
   "outputs": [],
   "source": [
    "#Qn 2:-\n",
    "lst1 = [1,2,3,4,5,6,7,8,9,10]\n",
    "df1 = pd.DataFrame(lst1)"
   ]
  },
  {
   "cell_type": "code",
   "execution_count": 9,
   "id": "c8cc1016-44a2-484a-abdb-db70f6b1afae",
   "metadata": {},
   "outputs": [],
   "source": [
    "#Qn 3:-\n",
    "lst2 = [['Name' , 'Age' , 'Gender'], ['Alice', 25, 'Female'], ['Bob', 30, 'Male'], ['Claire', 27,'Male']]\n",
    "df2 = pd.DataFrame(lst2)"
   ]
  },
  {
   "cell_type": "code",
   "execution_count": null,
   "id": "c1af1870-9b3f-4de8-86e3-0a62b50a7d6a",
   "metadata": {},
   "outputs": [],
   "source": [
    "#Qn 4:-\n",
    "'''As noted in the table, a Pandas Series is a 1D array of data, but a single-column\n",
    "DataFrame is a 2D table with one column. The main distinction between the two is this.\n",
    "For a single-column DataFrame, an index can be optional, but a Series has to have an \n",
    "index defined.'''"
   ]
  },
  {
   "cell_type": "code",
   "execution_count": null,
   "id": "3eec2cf1-b98d-42fd-a887-761e5fd8457f",
   "metadata": {},
   "outputs": [],
   "source": [
    "#Qn 5:-\n",
    "'''\n",
    "Head and Tail.\n",
    "DataFrame.info( )\n",
    "Pandas dataframe.info() \n",
    "Len()\n",
    "Dtypes.'''\n"
   ]
  },
  {
   "cell_type": "code",
   "execution_count": null,
   "id": "9b8175d2-fd6c-48da-ac86-c94073ce4907",
   "metadata": {},
   "outputs": [],
   "source": [
    "#Qn 6:-\n",
    "'''\n",
    "Panel is Mutable in nature.\n"
   ]
  },
  {
   "cell_type": "code",
   "execution_count": null,
   "id": "64f89893-8863-40e4-a27f-d808352e9592",
   "metadata": {},
   "outputs": [],
   "source": [
    "#Qn 7:-\n",
    "lst3 = [['Name' , 'Age' , 'Gender'], ['Alice', 25, 'Female'], ['Bob', 30, 'Male'], ['Claire', 27,'Male']]\n",
    "df3 = pd.DataFrame(lst3)"
   ]
  }
 ],
 "metadata": {
  "kernelspec": {
   "display_name": "Python 3 (ipykernel)",
   "language": "python",
   "name": "python3"
  },
  "language_info": {
   "codemirror_mode": {
    "name": "ipython",
    "version": 3
   },
   "file_extension": ".py",
   "mimetype": "text/x-python",
   "name": "python",
   "nbconvert_exporter": "python",
   "pygments_lexer": "ipython3",
   "version": "3.10.8"
  }
 },
 "nbformat": 4,
 "nbformat_minor": 5
}
