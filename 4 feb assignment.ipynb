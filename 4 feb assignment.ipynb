{
 "cells": [
  {
   "cell_type": "code",
   "execution_count": 1,
   "id": "0a0dffc8-0208-4d40-bf74-523038d2e944",
   "metadata": {},
   "outputs": [
    {
     "name": "stdout",
     "output_type": "stream",
     "text": [
      "[('Virat Kohli', 24936), ('Jack Kallis', 25534), ('Ricky Ponting', 27483), ('Sachin Tendulkar', 34357)]\n"
     ]
    }
   ],
   "source": [
    "#Qn 1:-\n",
    "subject_marks = [('Sachin Tendulkar', 34357), ('Ricky Ponting', 27483), ('Jack Kallis', 25534),\n",
    "                 ('Virat Kohli', 24936)]\n",
    "subject_marks.sort(key = lambda x: x[1])\n",
    "print(subject_marks)"
   ]
  },
  {
   "cell_type": "code",
   "execution_count": 2,
   "id": "6b33c7be-3d3b-4f6c-95e0-dc55f7930c2d",
   "metadata": {},
   "outputs": [
    {
     "data": {
      "text/plain": [
       "[1, 4, 9, 16, 25, 36, 49, 64, 81, 100]"
      ]
     },
     "execution_count": 2,
     "metadata": {},
     "output_type": "execute_result"
    }
   ],
   "source": [
    "#Qn 2:-\n",
    "l =[1, 2, 3, 4, 5, 6, 7, 8, 9, 10]\n",
    "list(map(lambda x: x**2, l ))"
   ]
  },
  {
   "cell_type": "code",
   "execution_count": 3,
   "id": "9f651173-ba1c-472f-bac6-41e52d1d358f",
   "metadata": {},
   "outputs": [
    {
     "data": {
      "text/plain": [
       "['1', '2', '3', '4', '5', '6', '7', '8', '9', '10']"
      ]
     },
     "execution_count": 3,
     "metadata": {},
     "output_type": "execute_result"
    }
   ],
   "source": [
    "#Qn 3:-\n",
    "l1 =[1, 2, 3, 4, 5, 6, 7, 8, 9, 10]\n",
    "list(map(lambda x : str(x) , l1))"
   ]
  },
  {
   "cell_type": "code",
   "execution_count": 4,
   "id": "a8b5128e-b998-4e15-9763-41a0f1801a77",
   "metadata": {},
   "outputs": [
    {
     "data": {
      "text/plain": [
       "15511210043330985984000000"
      ]
     },
     "execution_count": 4,
     "metadata": {},
     "output_type": "execute_result"
    }
   ],
   "source": [
    "#Qn 4:-\n",
    "from functools import reduce\n",
    "n = list(range(1,26))\n",
    "reduce(lambda x,y: x*y , n)"
   ]
  },
  {
   "cell_type": "code",
   "execution_count": 9,
   "id": "e2e09f57-dafd-487b-8440-8a6a060a5670",
   "metadata": {},
   "outputs": [
    {
     "data": {
      "text/plain": [
       "[6, 60, 90, 120]"
      ]
     },
     "execution_count": 9,
     "metadata": {},
     "output_type": "execute_result"
    }
   ],
   "source": [
    "#Qn 5:-\n",
    "l3 = [2, 3, 6, 9, 27, 60, 90, 120, 55, 46]\n",
    "list(filter(lambda x: x%2 ==0 and x%3 ==0, l3 ))"
   ]
  },
  {
   "cell_type": "code",
   "execution_count": 14,
   "id": "3d33a59b-a6e4-4f6a-b396-4c8e6cac0c4b",
   "metadata": {},
   "outputs": [
    {
     "data": {
      "text/plain": [
       "['php', 'aba', 'radar', 'level']"
      ]
     },
     "execution_count": 14,
     "metadata": {},
     "output_type": "execute_result"
    }
   ],
   "source": [
    "#Qn 6:-\n",
    "l4 = ['python', 'php', 'aba', 'radar', 'level']\n",
    "list(filter(lambda x: x == \"\".join(reversed(x)), l4))"
   ]
  },
  {
   "cell_type": "code",
   "execution_count": null,
   "id": "59fab5a1-7b21-407d-8956-a202e6ad2c5f",
   "metadata": {},
   "outputs": [],
   "source": []
  }
 ],
 "metadata": {
  "kernelspec": {
   "display_name": "Python 3 (ipykernel)",
   "language": "python",
   "name": "python3"
  },
  "language_info": {
   "codemirror_mode": {
    "name": "ipython",
    "version": 3
   },
   "file_extension": ".py",
   "mimetype": "text/x-python",
   "name": "python",
   "nbconvert_exporter": "python",
   "pygments_lexer": "ipython3",
   "version": "3.10.8"
  }
 },
 "nbformat": 4,
 "nbformat_minor": 5
}
