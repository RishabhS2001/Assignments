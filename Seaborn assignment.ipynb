{
 "cells": [
  {
   "cell_type": "code",
   "execution_count": null,
   "id": "bf49cf4e-0a42-4111-b5c1-665e3bbba6bd",
   "metadata": {},
   "outputs": [],
   "source": [
    "#Qn 1:-\n",
    "'''\n",
    "Barplot\n",
    "A barplot is basically used to aggregate the categorical data according to some methods\n",
    "and by default it’s the mean.\n",
    "\n",
    "Countplot\n",
    "A countplot basically counts the categories and returns a count of their occurrences.\n",
    "It is one of the simplest plots provided by the seaborn library.\n",
    "\n",
    "Boxplot\n",
    "Box Plot is the visual representation of the depicting groups of numerical data through\n",
    "their quartiles. Boxplot is also used to detect the outlier in the data set.\n",
    "\n",
    "Stripplot\n",
    "It basically creates a scatter plot based on the category.\n",
    "\n"
   ]
  },
  {
   "cell_type": "code",
   "execution_count": null,
   "id": "f10ec298-ea50-464b-9e5e-b4730bf5a1d1",
   "metadata": {},
   "outputs": [],
   "source": [
    "#Qn 2:-\n",
    "'''\n",
    "fmr = sns.load_dataset('fmri')\n",
    "\n",
    "sns.lineplot(x = 'timepoint' ,  y = 'signal' , data = fmr)"
   ]
  },
  {
   "cell_type": "code",
   "execution_count": null,
   "id": "ef36c11c-468d-4c0d-8a2f-e5c602da8f4d",
   "metadata": {},
   "outputs": [],
   "source": [
    "#Qn 3:-\n",
    "'''\n",
    "sns.boxplot(data=titanic_df, x='pclass', y='age')\n",
    "plt.title('Box Plot: Age by Passenger Class')\n",
    "plt.show()\n",
    "\n",
    "sns.boxplot(data=titanic_df, x='pclass', y='fare')\n",
    "plt.title('Box Plot: Fare by Passenger Class')\n",
    "plt.show()"
   ]
  },
  {
   "cell_type": "code",
   "execution_count": null,
   "id": "7cbbc059-2d4d-4a69-8d00-5bb1578318d3",
   "metadata": {},
   "outputs": [],
   "source": [
    "#Qn 4:-\n",
    "'''\n",
    "dia = sns.load_dataset(\"diamonds\")\n",
    "sns.histplot(x = 'price' , hue = 'cut' , data = dia )"
   ]
  },
  {
   "cell_type": "code",
   "execution_count": null,
   "id": "b7fa820e-ea79-4af2-956a-9eec186473ca",
   "metadata": {},
   "outputs": [],
   "source": [
    "#Qn 5:-\n",
    "'''\n",
    "iri = sns.load_dataset('iris')\n",
    "sns.pairplot(hue = 'species' , data = iri )"
   ]
  },
  {
   "cell_type": "code",
   "execution_count": null,
   "id": "1b928c86-31fb-4e01-89f9-47c18dd6fc7d",
   "metadata": {},
   "outputs": [],
   "source": [
    "#Qn 6:-\n",
    "'''\n",
    "flights_df = sns.load_dataset('flights')\n",
    "\n",
    "flights_matrix = flights_df.pivot('month', 'year', 'passengers')\n",
    "\n",
    "sns.heatmap(data=flights_matrix, cmap='YlGnBu')\n",
    "plt.title('Flights Heatmap')\n",
    "plt.show()"
   ]
  }
 ],
 "metadata": {
  "kernelspec": {
   "display_name": "Python 3 (ipykernel)",
   "language": "python",
   "name": "python3"
  },
  "language_info": {
   "codemirror_mode": {
    "name": "ipython",
    "version": 3
   },
   "file_extension": ".py",
   "mimetype": "text/x-python",
   "name": "python",
   "nbconvert_exporter": "python",
   "pygments_lexer": "ipython3",
   "version": "3.10.8"
  }
 },
 "nbformat": 4,
 "nbformat_minor": 5
}
