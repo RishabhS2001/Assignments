{
 "cells": [
  {
   "cell_type": "code",
   "execution_count": null,
   "id": "167ddbd4-2312-4dd6-95d6-547e32ea85c2",
   "metadata": {},
   "outputs": [],
   "source": [
    "#Qn 1:-\n",
    "'''Python multithreading enables efficient utilization of the resources as the threads share the data\n",
    "space and memory.\n",
    "Multithreading is used because it allows the execution of multiple parts of a program at the same time.\n",
    "Threading Modules.'''"
   ]
  },
  {
   "cell_type": "code",
   "execution_count": null,
   "id": "991d3500-7991-4cfa-9adc-87299123654b",
   "metadata": {},
   "outputs": [],
   "source": [
    "#Qn 2:-\n",
    "'''Threading module is used for creating, controlling and managing threads in python.\n",
    "threading.activeCount() − Returns the number of thread objects that are active.\n",
    "currentThread :- It is used to return the current Thread object, which corresponds to the caller's thread of\n",
    "control.\n",
    "enumerate :- Python's enumerate() lets you write Pythonic for loops when you need a count and the value\n",
    "from an iterable."
   ]
  },
  {
   "cell_type": "code",
   "execution_count": null,
   "id": "0775ceb8-05aa-446b-a76f-322eacdef863",
   "metadata": {},
   "outputs": [],
   "source": [
    "#Qn 3:-\n",
    "'''\n",
    "run() :- run() method executes any target function belonging to a given thread object that is now active.\n",
    "start() :-  It is used to start a thread's activity.\n",
    "join() :- The join in Python takes all the elements of an iterable and joins them into a single string\n",
    "isAlive() :-returns True if the thread is still running and False , otherwise."
   ]
  },
  {
   "cell_type": "code",
   "execution_count": 1,
   "id": "a502bc6d-7507-4871-a983-985b493b3866",
   "metadata": {},
   "outputs": [],
   "source": [
    "#Qn 4:-\n",
    "import threading"
   ]
  },
  {
   "cell_type": "code",
   "execution_count": 19,
   "id": "5703ddec-9b50-4a40-b770-eb993d2d8fb3",
   "metadata": {},
   "outputs": [],
   "source": [
    "def square(num):\n",
    "    a = num**2\n",
    "    print(a)\n",
    "\n",
    "def cube(num):\n",
    "    n = num**3\n",
    "    print(n)"
   ]
  },
  {
   "cell_type": "code",
   "execution_count": 28,
   "id": "d23b75ca-c256-4dfc-9a69-78fb034e635c",
   "metadata": {},
   "outputs": [],
   "source": [
    "thread = [threading.Thread(target = square , args = (i,)) for i in range(10)]\n"
   ]
  },
  {
   "cell_type": "code",
   "execution_count": 29,
   "id": "ae145a7f-ce39-4ac6-be9b-0eda8a2e86dc",
   "metadata": {},
   "outputs": [
    {
     "name": "stdout",
     "output_type": "stream",
     "text": [
      "0\n",
      "1\n",
      "4\n",
      "9\n",
      "16\n",
      "25\n",
      "36\n",
      "49\n",
      "64\n",
      "81\n"
     ]
    }
   ],
   "source": [
    "for t in thread :\n",
    "    t.start()"
   ]
  },
  {
   "cell_type": "code",
   "execution_count": 24,
   "id": "1601531b-50c7-472e-9022-6eb5775aebd1",
   "metadata": {},
   "outputs": [],
   "source": [
    "thread1 = [threading.Thread(target = cube , args = (i,)) for i in range(10)]"
   ]
  },
  {
   "cell_type": "code",
   "execution_count": 25,
   "id": "89e29ba7-2727-4bf6-89db-9cd98762dc8a",
   "metadata": {},
   "outputs": [
    {
     "name": "stdout",
     "output_type": "stream",
     "text": [
      "0\n",
      "1\n",
      "8\n",
      "27\n",
      "64\n",
      "125\n",
      "216\n",
      "343\n",
      "512\n",
      "729\n"
     ]
    }
   ],
   "source": [
    "for t1 in thread1:\n",
    "    t1.start()"
   ]
  },
  {
   "cell_type": "code",
   "execution_count": null,
   "id": "b01ba4bd-0549-41e3-a3b4-b16cb2777c8a",
   "metadata": {},
   "outputs": [],
   "source": [
    "#Qn 5:-\n",
    "'''Benefits of Multithreading:\n",
    " 1. Responsiveness\n",
    " 2. Resource Sharing\n",
    " 3. Economy :- Allocating memory and resources for process creation is an expensive procedure because it is a time and \n",
    "space-consuming task.\n",
    "\n",
    "4. Scalability :- The advantages of multi-programming become much more apparent in the case of \n",
    "multiprocessor architecture, when threads may execute in parallel on many processors.\n",
    "\n",
    "some of the disadvantages are as follows:\n",
    "\n",
    "1:- It needs more careful synchronization.\n",
    "2:- It can consume a large space of stocks of blocked threads.\n",
    "3:- It needs support for thread or process.\n",
    "4:- If a parent process has several threads for proper process functioning, the child processes should \n",
    "    also be multithreaded because they may be required.\n",
    "5:- It imposes context switching overhead."
   ]
  },
  {
   "cell_type": "code",
   "execution_count": null,
   "id": "16410d66-a283-4ad7-af04-21951fc35c93",
   "metadata": {},
   "outputs": [],
   "source": [
    "#Qn 6:-\n",
    "'''A race condition occurs when two threads use the same variable at a given time. Deadlock exists\n",
    "when two threads seek one lock simultaneously. This situation will stop both threads from processing \n",
    "or executing the functions."
   ]
  }
 ],
 "metadata": {
  "kernelspec": {
   "display_name": "Python 3 (ipykernel)",
   "language": "python",
   "name": "python3"
  },
  "language_info": {
   "codemirror_mode": {
    "name": "ipython",
    "version": 3
   },
   "file_extension": ".py",
   "mimetype": "text/x-python",
   "name": "python",
   "nbconvert_exporter": "python",
   "pygments_lexer": "ipython3",
   "version": "3.10.8"
  }
 },
 "nbformat": 4,
 "nbformat_minor": 5
}
