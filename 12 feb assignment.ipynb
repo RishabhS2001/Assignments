{
 "cells": [
  {
   "cell_type": "code",
   "execution_count": null,
   "id": "0703c292-ca72-4332-a289-644ac9973341",
   "metadata": {},
   "outputs": [],
   "source": [
    "#Qn 1:-\n",
    "'''An exception is an event, which occurs during the execution of a program that disrupts the normal\n",
    "flow of the program's instructions. \n",
    "\n",
    "An error is an issue in a program that prevents the program from completing its task. In comparison, an\n",
    "exception is a condition that interrupts the normal flow of the program'''\n"
   ]
  },
  {
   "cell_type": "code",
   "execution_count": null,
   "id": "ee0e21c4-0c06-42f4-9dbb-c9475910d527",
   "metadata": {},
   "outputs": [],
   "source": [
    "#Qn 2:-\n",
    "'''When an exception occurred, if you don’t handle it, the program terminates abruptly and the code past\n",
    "the line that caused the exception will not get executed.\n",
    "Example\n",
    "Generally, an array is of fixed size and each element is accessed using the indices. For example, we have\n",
    "created an array with size 7. Then the valid expressions to access the elements of this array will be a[0]\n",
    "to a[6] (length-1).\n",
    "Whenever, you used an –ve value or, the value greater than or equal to the size of the array, then the \n",
    "ArrayIndexOutOfBoundsException is thrown."
   ]
  },
  {
   "cell_type": "code",
   "execution_count": null,
   "id": "403d6b33-837e-451b-9739-e98e5ae4fcc9",
   "metadata": {},
   "outputs": [],
   "source": [
    "#Qn 3:-\n",
    "'''The try and except block in Python is used to catch and handle exceptions.\n",
    " When an exception is thrown in the try block, the execution immediately passes to the finally block.\n",
    " After all the statements in the finally block are executed, the exception is raised again and is handled \n",
    " in the except statements if present in the next higher layer of the try-except statement."
   ]
  },
  {
   "cell_type": "code",
   "execution_count": null,
   "id": "2e09b996-1bb9-4153-af67-78e3f2206821",
   "metadata": {},
   "outputs": [],
   "source": [
    "#Qn 4:-\n",
    "'''\n",
    "Try and else:- The try block lets you test a block of code for errors. The except block lets you handle the error.\n",
    "The else block lets you execute code when there is no error. \n",
    "\n",
    "final:- It defines a block of code to run when the try... except...else block is final.\n",
    "\n",
    "Raise:- The raise keyword is used to raise an exception. You can define what kind of error to raise, and the \n",
    "text to print to the user."
   ]
  },
  {
   "cell_type": "code",
   "execution_count": null,
   "id": "088e6726-66c4-41a4-97bf-6aaa8001299c",
   "metadata": {},
   "outputs": [],
   "source": [
    "#Qn 5:-\n",
    "'''Custom exceptions provide you the flexibility to add attributes and methods that are not part of a\n",
    "standard Java exception. These can store additional information, like an application-specific error code,\n",
    "or provide utility methods that can be used to handle or present the exception to a user."
   ]
  },
  {
   "cell_type": "code",
   "execution_count": null,
   "id": "a5fd71f8-7133-41a9-8106-076d693fe304",
   "metadata": {},
   "outputs": [],
   "source": []
  },
  {
   "cell_type": "code",
   "execution_count": 1,
   "id": "1ac1db2d-9236-45e4-b0c7-57fd6faa0cc5",
   "metadata": {},
   "outputs": [
    {
     "name": "stdin",
     "output_type": "stream",
     "text": [
      "enter your age -3566\n"
     ]
    }
   ],
   "source": [
    "#Qn6:- \n",
    "age = int(input(\"enter your age\" ))"
   ]
  },
  {
   "cell_type": "code",
   "execution_count": null,
   "id": "033f1a9d-249a-497b-9283-6e997b549ec1",
   "metadata": {},
   "outputs": [],
   "source": [
    "class validateage(Exception):\n",
    "    \n",
    "    def __init__(self , msg) : \n",
    "        self.msg = msg"
   ]
  },
  {
   "cell_type": "code",
   "execution_count": 2,
   "id": "711b9fff-ea1e-445a-8703-14e51988f527",
   "metadata": {},
   "outputs": [],
   "source": [
    "def validaetage(age) : \n",
    "    if age < 0 :\n",
    "        raise validateage(\"entered age is negative \" )\n",
    "    elif age > 200 : \n",
    "        raise validateage(\"enterd age is very very high \" )\n",
    "    else :\n",
    "        print(\"age is valid\" )"
   ]
  },
  {
   "cell_type": "code",
   "execution_count": null,
   "id": "b0d2226a-bce7-4c5f-9439-494d307f9a75",
   "metadata": {},
   "outputs": [],
   "source": [
    "try :\n",
    "    age = int(input(\"enter your age\" ))\n",
    "    validaetage(age)\n",
    "except validateage as e :\n",
    "    print(e)"
   ]
  },
  {
   "cell_type": "code",
   "execution_count": null,
   "id": "8bc4f686-6802-4c05-bc43-ddf1f5712e8d",
   "metadata": {},
   "outputs": [],
   "source": []
  }
 ],
 "metadata": {
  "kernelspec": {
   "display_name": "Python 3 (ipykernel)",
   "language": "python",
   "name": "python3"
  },
  "language_info": {
   "codemirror_mode": {
    "name": "ipython",
    "version": 3
   },
   "file_extension": ".py",
   "mimetype": "text/x-python",
   "name": "python",
   "nbconvert_exporter": "python",
   "pygments_lexer": "ipython3",
   "version": "3.10.8"
  }
 },
 "nbformat": 4,
 "nbformat_minor": 5
}
