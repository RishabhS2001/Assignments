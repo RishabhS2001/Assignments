{
 "cells": [
  {
   "cell_type": "code",
   "execution_count": null,
   "id": "7dff9caa-c2a9-449c-8863-16387537de07",
   "metadata": {},
   "outputs": [],
   "source": [
    "#Qn 1 :-\n",
    "'''import numpy as np\n",
    "list1 = [ 1 , 2 , 3, 4, 5 ]\n",
    "array_list = np.array(object = list_)\n",
    "\n",
    "\n",
    "type(list1)\n",
    "\n",
    "type(array_list)'''\n"
   ]
  },
  {
   "cell_type": "code",
   "execution_count": null,
   "id": "9a46bb76-d573-4c44-8d21-e35af54cd016",
   "metadata": {},
   "outputs": [],
   "source": [
    "#Qn 2:-\n",
    "'''\n",
    "for element in list_:\n",
    "    print(type(element))\n",
    "\n",
    "\n",
    "for element in array_list:\n",
    "    print(type(element))\n",
    "    \n",
    "    \n",
    "    '''\n"
   ]
  },
  {
   "cell_type": "code",
   "execution_count": null,
   "id": "c8a06b60-89ed-44bb-85c3-ce0ec4651f88",
   "metadata": {},
   "outputs": [],
   "source": [
    "#Qn 3:-\n",
    "\n",
    "'''\n",
    "import numpy as np\n",
    "\n",
    "list_ = ['1', '2', '3', '4', '5']\n",
    "array_list = np.array(object=list_, dtype=int)\n",
    "\n",
    "\n",
    "\n",
    "for element in list_:\n",
    "    print(type(element))\n",
    "\n",
    "\n",
    "\n",
    "for element in array_list:\n",
    "    print(type(element))\n"
   ]
  },
  {
   "cell_type": "code",
   "execution_count": 12,
   "id": "4e1d5b40-ea08-4536-b004-b5680bc2f8f2",
   "metadata": {},
   "outputs": [],
   "source": [
    "import numpy as np\n",
    "num_list = [ [ 1 , 2 , 3 ] , [ 4 , 5 , 6 ] ]\n",
    "num_array = np.array(object = num_list)"
   ]
  },
  {
   "cell_type": "code",
   "execution_count": null,
   "id": "0a4be64a-1731-43f5-8c49-488ea4dc2d74",
   "metadata": {},
   "outputs": [],
   "source": [
    "#Qn 4:-\n",
    "'''\n",
    "np.shape(num_list)\n",
    "np.shape(num_array)\n",
    "\n",
    "\n",
    "\n",
    "np.size(num_list)\n",
    "np.size(num_array)"
   ]
  },
  {
   "cell_type": "code",
   "execution_count": null,
   "id": "0ebd805e-2683-4979-a679-553df932c8c1",
   "metadata": {},
   "outputs": [],
   "source": [
    "#Qn 5:-\n",
    "'''\n",
    "arr1 = np.zeros((3,3))\n",
    "\n"
   ]
  },
  {
   "cell_type": "code",
   "execution_count": null,
   "id": "883a5482-c621-4e41-aa6a-366342d64c74",
   "metadata": {},
   "outputs": [],
   "source": [
    "#Qn 6:-\n",
    "'''\n",
    "\n",
    "arr1 = np.eye(5)"
   ]
  }
 ],
 "metadata": {
  "kernelspec": {
   "display_name": "Python 3 (ipykernel)",
   "language": "python",
   "name": "python3"
  },
  "language_info": {
   "codemirror_mode": {
    "name": "ipython",
    "version": 3
   },
   "file_extension": ".py",
   "mimetype": "text/x-python",
   "name": "python",
   "nbconvert_exporter": "python",
   "pygments_lexer": "ipython3",
   "version": "3.10.8"
  }
 },
 "nbformat": 4,
 "nbformat_minor": 5
}
